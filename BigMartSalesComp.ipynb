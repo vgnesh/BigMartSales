{
  "nbformat": 4,
  "nbformat_minor": 0,
  "metadata": {
    "colab": {
      "name": "BigMartSalesComp.ipynb",
      "provenance": [],
      "collapsed_sections": [
        "fXMfh7kqsRzX",
        "Wgehd8OEr52K",
        "HSxStMwqybK9",
        "89b5O6bw7iqK",
        "L5v7FD1qrVmB",
        "om3EbE1iFrfi",
        "XAqDYuzOjCkQ"
      ],
      "authorship_tag": "ABX9TyP7CL8FZTdxbq10fdCOYJDf",
      "include_colab_link": true
    },
    "kernelspec": {
      "name": "python3",
      "display_name": "Python 3"
    }
  },
  "cells": [
    {
      "cell_type": "markdown",
      "metadata": {
        "id": "view-in-github",
        "colab_type": "text"
      },
      "source": [
        "<a href=\"https://colab.research.google.com/github/vgnesh/BigMartSales/blob/main/BigMartSalesComp.ipynb\" target=\"_parent\"><img src=\"https://colab.research.google.com/assets/colab-badge.svg\" alt=\"Open In Colab\"/></a>"
      ]
    },
    {
      "cell_type": "markdown",
      "metadata": {
        "id": "R5moOfdpeiqL"
      },
      "source": [
        "\n",
        "\n",
        "*   chk if year is required or age diff is enuf\n",
        "*   chk if item identifier is good as index or seperate column\n",
        "*   chk ordinal for location type and outlet type\n",
        "*   chk to remove outliers w.r.t item identifier value counts < some value"
      ]
    },
    {
      "cell_type": "markdown",
      "metadata": {
        "id": "_3gFEKPDvKBt"
      },
      "source": [
        "#To-Do\n",
        "\n",
        "* drop item identifier cause having uncommon items"
      ]
    },
    {
      "cell_type": "markdown",
      "metadata": {
        "id": "NgmUv2f64mtD"
      },
      "source": [
        "# Questions\n",
        "* why is visibility 0 in some cases"
      ]
    },
    {
      "cell_type": "markdown",
      "metadata": {
        "id": "fXMfh7kqsRzX"
      },
      "source": [
        "# Importing libraries and dataset"
      ]
    },
    {
      "cell_type": "code",
      "metadata": {
        "id": "rk9jYUxxG2Ys"
      },
      "source": [
        "import pandas as pd\n",
        "import numpy as np\n",
        "import matplotlib.pyplot as plt\n",
        "import seaborn as sns\n",
        "from sklearn.preprocessing import OrdinalEncoder\n",
        "from sklearn.preprocessing import LabelEncoder\n",
        "from sklearn.preprocessing import OneHotEncoder\n",
        "from sklearn.model_selection import train_test_split\n",
        "import xgboost as xgb\n",
        "from sklearn.metrics import mean_squared_error\n",
        "from sklearn.model_selection import GridSearchCV\n",
        "from sklearn.model_selection import StratifiedKFold\n",
        "\n",
        "from sklearn.feature_selection import SelectFromModel"
      ],
      "execution_count": 1,
      "outputs": []
    },
    {
      "cell_type": "code",
      "metadata": {
        "id": "SKQlLGLuMg9z"
      },
      "source": [
        "pd.set_option('display.max_rows', 10000)\n",
        "pd.set_option('display.max_columns', 500)\n",
        "pd.set_option('display.width', 10000)"
      ],
      "execution_count": 2,
      "outputs": []
    },
    {
      "cell_type": "code",
      "metadata": {
        "id": "SCU9eAdaM9q6"
      },
      "source": [
        "train_original = pd.read_csv('BigMartTrain.csv')\n",
        "test_original = pd.read_csv('BigMartTest.csv')"
      ],
      "execution_count": 3,
      "outputs": []
    },
    {
      "cell_type": "code",
      "metadata": {
        "id": "X7P-3ARtheeN"
      },
      "source": [
        "train = train_original.copy()\n",
        "test = test_original.copy()"
      ],
      "execution_count": 4,
      "outputs": []
    },
    {
      "cell_type": "markdown",
      "metadata": {
        "id": "WB901mnmdFR4"
      },
      "source": [
        "# EDA"
      ]
    },
    {
      "cell_type": "code",
      "metadata": {
        "colab": {
          "base_uri": "https://localhost:8080/"
        },
        "id": "QjuW2mDnLkp0",
        "outputId": "3e44d082-2d31-4f9f-bde4-47086ce5c461"
      },
      "source": [
        "train.head()"
      ],
      "execution_count": null,
      "outputs": [
        {
          "output_type": "execute_result",
          "data": {
            "text/html": [
              "<div>\n",
              "<style scoped>\n",
              "    .dataframe tbody tr th:only-of-type {\n",
              "        vertical-align: middle;\n",
              "    }\n",
              "\n",
              "    .dataframe tbody tr th {\n",
              "        vertical-align: top;\n",
              "    }\n",
              "\n",
              "    .dataframe thead th {\n",
              "        text-align: right;\n",
              "    }\n",
              "</style>\n",
              "<table border=\"1\" class=\"dataframe\">\n",
              "  <thead>\n",
              "    <tr style=\"text-align: right;\">\n",
              "      <th></th>\n",
              "      <th>Item_Identifier</th>\n",
              "      <th>Item_Weight</th>\n",
              "      <th>Item_Fat_Content</th>\n",
              "      <th>Item_Visibility</th>\n",
              "      <th>Item_Type</th>\n",
              "      <th>Item_MRP</th>\n",
              "      <th>Outlet_Identifier</th>\n",
              "      <th>Outlet_Establishment_Year</th>\n",
              "      <th>Outlet_Size</th>\n",
              "      <th>Outlet_Location_Type</th>\n",
              "      <th>Outlet_Type</th>\n",
              "      <th>Item_Outlet_Sales</th>\n",
              "    </tr>\n",
              "  </thead>\n",
              "  <tbody>\n",
              "    <tr>\n",
              "      <th>0</th>\n",
              "      <td>FDA15</td>\n",
              "      <td>9.30</td>\n",
              "      <td>Low Fat</td>\n",
              "      <td>0.016047</td>\n",
              "      <td>Dairy</td>\n",
              "      <td>249.8092</td>\n",
              "      <td>OUT049</td>\n",
              "      <td>1999</td>\n",
              "      <td>Medium</td>\n",
              "      <td>Tier 1</td>\n",
              "      <td>Supermarket Type1</td>\n",
              "      <td>3735.1380</td>\n",
              "    </tr>\n",
              "    <tr>\n",
              "      <th>1</th>\n",
              "      <td>DRC01</td>\n",
              "      <td>5.92</td>\n",
              "      <td>Regular</td>\n",
              "      <td>0.019278</td>\n",
              "      <td>Soft Drinks</td>\n",
              "      <td>48.2692</td>\n",
              "      <td>OUT018</td>\n",
              "      <td>2009</td>\n",
              "      <td>Medium</td>\n",
              "      <td>Tier 3</td>\n",
              "      <td>Supermarket Type2</td>\n",
              "      <td>443.4228</td>\n",
              "    </tr>\n",
              "    <tr>\n",
              "      <th>2</th>\n",
              "      <td>FDN15</td>\n",
              "      <td>17.50</td>\n",
              "      <td>Low Fat</td>\n",
              "      <td>0.016760</td>\n",
              "      <td>Meat</td>\n",
              "      <td>141.6180</td>\n",
              "      <td>OUT049</td>\n",
              "      <td>1999</td>\n",
              "      <td>Medium</td>\n",
              "      <td>Tier 1</td>\n",
              "      <td>Supermarket Type1</td>\n",
              "      <td>2097.2700</td>\n",
              "    </tr>\n",
              "    <tr>\n",
              "      <th>3</th>\n",
              "      <td>FDX07</td>\n",
              "      <td>19.20</td>\n",
              "      <td>Regular</td>\n",
              "      <td>0.000000</td>\n",
              "      <td>Fruits and Vegetables</td>\n",
              "      <td>182.0950</td>\n",
              "      <td>OUT010</td>\n",
              "      <td>1998</td>\n",
              "      <td>NaN</td>\n",
              "      <td>Tier 3</td>\n",
              "      <td>Grocery Store</td>\n",
              "      <td>732.3800</td>\n",
              "    </tr>\n",
              "    <tr>\n",
              "      <th>4</th>\n",
              "      <td>NCD19</td>\n",
              "      <td>8.93</td>\n",
              "      <td>Low Fat</td>\n",
              "      <td>0.000000</td>\n",
              "      <td>Household</td>\n",
              "      <td>53.8614</td>\n",
              "      <td>OUT013</td>\n",
              "      <td>1987</td>\n",
              "      <td>High</td>\n",
              "      <td>Tier 3</td>\n",
              "      <td>Supermarket Type1</td>\n",
              "      <td>994.7052</td>\n",
              "    </tr>\n",
              "  </tbody>\n",
              "</table>\n",
              "</div>"
            ],
            "text/plain": [
              "  Item_Identifier  Item_Weight Item_Fat_Content  Item_Visibility              Item_Type  Item_MRP Outlet_Identifier  Outlet_Establishment_Year Outlet_Size Outlet_Location_Type        Outlet_Type  Item_Outlet_Sales\n",
              "0           FDA15         9.30          Low Fat         0.016047                  Dairy  249.8092            OUT049                       1999      Medium               Tier 1  Supermarket Type1          3735.1380\n",
              "1           DRC01         5.92          Regular         0.019278            Soft Drinks   48.2692            OUT018                       2009      Medium               Tier 3  Supermarket Type2           443.4228\n",
              "2           FDN15        17.50          Low Fat         0.016760                   Meat  141.6180            OUT049                       1999      Medium               Tier 1  Supermarket Type1          2097.2700\n",
              "3           FDX07        19.20          Regular         0.000000  Fruits and Vegetables  182.0950            OUT010                       1998         NaN               Tier 3      Grocery Store           732.3800\n",
              "4           NCD19         8.93          Low Fat         0.000000              Household   53.8614            OUT013                       1987        High               Tier 3  Supermarket Type1           994.7052"
            ]
          },
          "metadata": {
            "tags": []
          },
          "execution_count": 18
        }
      ]
    },
    {
      "cell_type": "code",
      "metadata": {
        "colab": {
          "base_uri": "https://localhost:8080/"
        },
        "id": "YYr6GcbwNQlR",
        "outputId": "e1cb9c32-5421-499f-a9bd-677d2996c6c8"
      },
      "source": [
        "train.loc[train.Item_Identifier == 'FDN15']"
      ],
      "execution_count": null,
      "outputs": [
        {
          "output_type": "execute_result",
          "data": {
            "text/html": [
              "<div>\n",
              "<style scoped>\n",
              "    .dataframe tbody tr th:only-of-type {\n",
              "        vertical-align: middle;\n",
              "    }\n",
              "\n",
              "    .dataframe tbody tr th {\n",
              "        vertical-align: top;\n",
              "    }\n",
              "\n",
              "    .dataframe thead th {\n",
              "        text-align: right;\n",
              "    }\n",
              "</style>\n",
              "<table border=\"1\" class=\"dataframe\">\n",
              "  <thead>\n",
              "    <tr style=\"text-align: right;\">\n",
              "      <th></th>\n",
              "      <th>Item_Identifier</th>\n",
              "      <th>Item_Weight</th>\n",
              "      <th>Item_Fat_Content</th>\n",
              "      <th>Item_Visibility</th>\n",
              "      <th>Item_Type</th>\n",
              "      <th>Item_MRP</th>\n",
              "      <th>Outlet_Identifier</th>\n",
              "      <th>Outlet_Establishment_Year</th>\n",
              "      <th>Outlet_Size</th>\n",
              "      <th>Outlet_Location_Type</th>\n",
              "      <th>Outlet_Type</th>\n",
              "      <th>Item_Outlet_Sales</th>\n",
              "    </tr>\n",
              "  </thead>\n",
              "  <tbody>\n",
              "    <tr>\n",
              "      <th>2</th>\n",
              "      <td>FDN15</td>\n",
              "      <td>17.5</td>\n",
              "      <td>Low Fat</td>\n",
              "      <td>0.016760</td>\n",
              "      <td>Meat</td>\n",
              "      <td>141.618</td>\n",
              "      <td>OUT049</td>\n",
              "      <td>1999</td>\n",
              "      <td>Medium</td>\n",
              "      <td>Tier 1</td>\n",
              "      <td>Supermarket Type1</td>\n",
              "      <td>2097.270</td>\n",
              "    </tr>\n",
              "    <tr>\n",
              "      <th>759</th>\n",
              "      <td>FDN15</td>\n",
              "      <td>17.5</td>\n",
              "      <td>Low Fat</td>\n",
              "      <td>0.028009</td>\n",
              "      <td>Meat</td>\n",
              "      <td>141.718</td>\n",
              "      <td>OUT010</td>\n",
              "      <td>1998</td>\n",
              "      <td>NaN</td>\n",
              "      <td>Tier 3</td>\n",
              "      <td>Grocery Store</td>\n",
              "      <td>419.454</td>\n",
              "    </tr>\n",
              "    <tr>\n",
              "      <th>4817</th>\n",
              "      <td>FDN15</td>\n",
              "      <td>17.5</td>\n",
              "      <td>Low Fat</td>\n",
              "      <td>0.016720</td>\n",
              "      <td>Meat</td>\n",
              "      <td>139.918</td>\n",
              "      <td>OUT013</td>\n",
              "      <td>1987</td>\n",
              "      <td>High</td>\n",
              "      <td>Tier 3</td>\n",
              "      <td>Supermarket Type1</td>\n",
              "      <td>419.454</td>\n",
              "    </tr>\n",
              "    <tr>\n",
              "      <th>5074</th>\n",
              "      <td>FDN15</td>\n",
              "      <td>17.5</td>\n",
              "      <td>Low Fat</td>\n",
              "      <td>0.016802</td>\n",
              "      <td>Meat</td>\n",
              "      <td>138.518</td>\n",
              "      <td>OUT018</td>\n",
              "      <td>2009</td>\n",
              "      <td>Medium</td>\n",
              "      <td>Tier 3</td>\n",
              "      <td>Supermarket Type2</td>\n",
              "      <td>2376.906</td>\n",
              "    </tr>\n",
              "    <tr>\n",
              "      <th>6163</th>\n",
              "      <td>FDN15</td>\n",
              "      <td>17.5</td>\n",
              "      <td>Low Fat</td>\n",
              "      <td>0.016768</td>\n",
              "      <td>Meat</td>\n",
              "      <td>141.418</td>\n",
              "      <td>OUT045</td>\n",
              "      <td>2002</td>\n",
              "      <td>NaN</td>\n",
              "      <td>Tier 2</td>\n",
              "      <td>Supermarket Type1</td>\n",
              "      <td>1957.452</td>\n",
              "    </tr>\n",
              "    <tr>\n",
              "      <th>6952</th>\n",
              "      <td>FDN15</td>\n",
              "      <td>NaN</td>\n",
              "      <td>Low Fat</td>\n",
              "      <td>0.029299</td>\n",
              "      <td>Meat</td>\n",
              "      <td>140.318</td>\n",
              "      <td>OUT019</td>\n",
              "      <td>1985</td>\n",
              "      <td>Small</td>\n",
              "      <td>Tier 1</td>\n",
              "      <td>Grocery Store</td>\n",
              "      <td>139.818</td>\n",
              "    </tr>\n",
              "    <tr>\n",
              "      <th>8349</th>\n",
              "      <td>FDN15</td>\n",
              "      <td>NaN</td>\n",
              "      <td>Low Fat</td>\n",
              "      <td>0.016653</td>\n",
              "      <td>Meat</td>\n",
              "      <td>139.518</td>\n",
              "      <td>OUT027</td>\n",
              "      <td>1985</td>\n",
              "      <td>Medium</td>\n",
              "      <td>Tier 3</td>\n",
              "      <td>Supermarket Type3</td>\n",
              "      <td>2936.178</td>\n",
              "    </tr>\n",
              "  </tbody>\n",
              "</table>\n",
              "</div>"
            ],
            "text/plain": [
              "     Item_Identifier  Item_Weight Item_Fat_Content  Item_Visibility Item_Type  Item_MRP Outlet_Identifier  Outlet_Establishment_Year Outlet_Size Outlet_Location_Type        Outlet_Type  Item_Outlet_Sales\n",
              "2              FDN15         17.5          Low Fat         0.016760      Meat   141.618            OUT049                       1999      Medium               Tier 1  Supermarket Type1           2097.270\n",
              "759            FDN15         17.5          Low Fat         0.028009      Meat   141.718            OUT010                       1998         NaN               Tier 3      Grocery Store            419.454\n",
              "4817           FDN15         17.5          Low Fat         0.016720      Meat   139.918            OUT013                       1987        High               Tier 3  Supermarket Type1            419.454\n",
              "5074           FDN15         17.5          Low Fat         0.016802      Meat   138.518            OUT018                       2009      Medium               Tier 3  Supermarket Type2           2376.906\n",
              "6163           FDN15         17.5          Low Fat         0.016768      Meat   141.418            OUT045                       2002         NaN               Tier 2  Supermarket Type1           1957.452\n",
              "6952           FDN15          NaN          Low Fat         0.029299      Meat   140.318            OUT019                       1985       Small               Tier 1      Grocery Store            139.818\n",
              "8349           FDN15          NaN          Low Fat         0.016653      Meat   139.518            OUT027                       1985      Medium               Tier 3  Supermarket Type3           2936.178"
            ]
          },
          "metadata": {
            "tags": []
          },
          "execution_count": 19
        }
      ]
    },
    {
      "cell_type": "code",
      "metadata": {
        "colab": {
          "base_uri": "https://localhost:8080/"
        },
        "id": "Qshm6JE6aK3x",
        "outputId": "93acb1a7-3822-46f7-bb96-b81985d116d3"
      },
      "source": [
        "test.Outlet_Establishment_Year.describe()"
      ],
      "execution_count": null,
      "outputs": [
        {
          "output_type": "execute_result",
          "data": {
            "text/plain": [
              "count    5681.000000\n",
              "mean     1997.828903\n",
              "std         8.372256\n",
              "min      1985.000000\n",
              "25%      1987.000000\n",
              "50%      1999.000000\n",
              "75%      2004.000000\n",
              "max      2009.000000\n",
              "Name: Outlet_Establishment_Year, dtype: float64"
            ]
          },
          "metadata": {
            "tags": []
          },
          "execution_count": 20
        }
      ]
    },
    {
      "cell_type": "code",
      "metadata": {
        "colab": {
          "base_uri": "https://localhost:8080/"
        },
        "id": "NvoIgu45MbGw",
        "outputId": "82c414fe-11a2-4636-fedf-3a8441c1bbc9"
      },
      "source": [
        "train.Outlet_Identifier.value_counts()"
      ],
      "execution_count": null,
      "outputs": [
        {
          "output_type": "execute_result",
          "data": {
            "text/plain": [
              "OUT027    935\n",
              "OUT013    932\n",
              "OUT049    930\n",
              "OUT046    930\n",
              "OUT035    930\n",
              "OUT045    929\n",
              "OUT018    928\n",
              "OUT017    926\n",
              "OUT010    555\n",
              "OUT019    528\n",
              "Name: Outlet_Identifier, dtype: int64"
            ]
          },
          "metadata": {
            "tags": []
          },
          "execution_count": 21
        }
      ]
    },
    {
      "cell_type": "code",
      "metadata": {
        "colab": {
          "base_uri": "https://localhost:8080/"
        },
        "id": "gxZCF3nUOP5L",
        "outputId": "bff9efcb-d6e5-4992-96d2-796abda1f096"
      },
      "source": [
        "352/(528+352)"
      ],
      "execution_count": null,
      "outputs": [
        {
          "output_type": "execute_result",
          "data": {
            "text/plain": [
              "0.4"
            ]
          },
          "metadata": {
            "tags": []
          },
          "execution_count": 22
        }
      ]
    },
    {
      "cell_type": "code",
      "metadata": {
        "colab": {
          "base_uri": "https://localhost:8080/"
        },
        "id": "H5UvUD_RNMyk",
        "outputId": "c01c90ee-9d0b-4d83-8701-ea82822bc5c3"
      },
      "source": [
        "test.Outlet_Identifier.value_counts()"
      ],
      "execution_count": null,
      "outputs": [
        {
          "output_type": "execute_result",
          "data": {
            "text/plain": [
              "OUT027    624\n",
              "OUT013    621\n",
              "OUT049    620\n",
              "OUT046    620\n",
              "OUT035    620\n",
              "OUT045    619\n",
              "OUT018    618\n",
              "OUT017    617\n",
              "OUT010    370\n",
              "OUT019    352\n",
              "Name: Outlet_Identifier, dtype: int64"
            ]
          },
          "metadata": {
            "tags": []
          },
          "execution_count": 23
        }
      ]
    },
    {
      "cell_type": "code",
      "metadata": {
        "colab": {
          "base_uri": "https://localhost:8080/"
        },
        "id": "hw-W7zbHNgNA",
        "outputId": "ab6ae4ae-e833-440b-a182-24cfd9928e00"
      },
      "source": [
        "train.columns"
      ],
      "execution_count": null,
      "outputs": [
        {
          "output_type": "execute_result",
          "data": {
            "text/plain": [
              "Index(['Item_Identifier', 'Item_Weight', 'Item_Fat_Content', 'Item_Visibility', 'Item_Type', 'Item_MRP', 'Outlet_Identifier', 'Outlet_Establishment_Year', 'Outlet_Size', 'Outlet_Location_Type', 'Outlet_Type', 'Item_Outlet_Sales'], dtype='object')"
            ]
          },
          "metadata": {
            "tags": []
          },
          "execution_count": 24
        }
      ]
    },
    {
      "cell_type": "code",
      "metadata": {
        "colab": {
          "base_uri": "https://localhost:8080/"
        },
        "id": "tQ9T70-zNi0A",
        "outputId": "9a6adcf0-a133-4e1a-eb85-1efe90856f0e"
      },
      "source": [
        "train.describe()"
      ],
      "execution_count": null,
      "outputs": [
        {
          "output_type": "execute_result",
          "data": {
            "text/html": [
              "<div>\n",
              "<style scoped>\n",
              "    .dataframe tbody tr th:only-of-type {\n",
              "        vertical-align: middle;\n",
              "    }\n",
              "\n",
              "    .dataframe tbody tr th {\n",
              "        vertical-align: top;\n",
              "    }\n",
              "\n",
              "    .dataframe thead th {\n",
              "        text-align: right;\n",
              "    }\n",
              "</style>\n",
              "<table border=\"1\" class=\"dataframe\">\n",
              "  <thead>\n",
              "    <tr style=\"text-align: right;\">\n",
              "      <th></th>\n",
              "      <th>Item_Weight</th>\n",
              "      <th>Item_Visibility</th>\n",
              "      <th>Item_MRP</th>\n",
              "      <th>Outlet_Establishment_Year</th>\n",
              "      <th>Item_Outlet_Sales</th>\n",
              "    </tr>\n",
              "  </thead>\n",
              "  <tbody>\n",
              "    <tr>\n",
              "      <th>count</th>\n",
              "      <td>7060.000000</td>\n",
              "      <td>8523.000000</td>\n",
              "      <td>8523.000000</td>\n",
              "      <td>8523.000000</td>\n",
              "      <td>8523.000000</td>\n",
              "    </tr>\n",
              "    <tr>\n",
              "      <th>mean</th>\n",
              "      <td>12.857645</td>\n",
              "      <td>0.066132</td>\n",
              "      <td>140.992782</td>\n",
              "      <td>1997.831867</td>\n",
              "      <td>2181.288914</td>\n",
              "    </tr>\n",
              "    <tr>\n",
              "      <th>std</th>\n",
              "      <td>4.643456</td>\n",
              "      <td>0.051598</td>\n",
              "      <td>62.275067</td>\n",
              "      <td>8.371760</td>\n",
              "      <td>1706.499616</td>\n",
              "    </tr>\n",
              "    <tr>\n",
              "      <th>min</th>\n",
              "      <td>4.555000</td>\n",
              "      <td>0.000000</td>\n",
              "      <td>31.290000</td>\n",
              "      <td>1985.000000</td>\n",
              "      <td>33.290000</td>\n",
              "    </tr>\n",
              "    <tr>\n",
              "      <th>25%</th>\n",
              "      <td>8.773750</td>\n",
              "      <td>0.026989</td>\n",
              "      <td>93.826500</td>\n",
              "      <td>1987.000000</td>\n",
              "      <td>834.247400</td>\n",
              "    </tr>\n",
              "    <tr>\n",
              "      <th>50%</th>\n",
              "      <td>12.600000</td>\n",
              "      <td>0.053931</td>\n",
              "      <td>143.012800</td>\n",
              "      <td>1999.000000</td>\n",
              "      <td>1794.331000</td>\n",
              "    </tr>\n",
              "    <tr>\n",
              "      <th>75%</th>\n",
              "      <td>16.850000</td>\n",
              "      <td>0.094585</td>\n",
              "      <td>185.643700</td>\n",
              "      <td>2004.000000</td>\n",
              "      <td>3101.296400</td>\n",
              "    </tr>\n",
              "    <tr>\n",
              "      <th>max</th>\n",
              "      <td>21.350000</td>\n",
              "      <td>0.328391</td>\n",
              "      <td>266.888400</td>\n",
              "      <td>2009.000000</td>\n",
              "      <td>13086.964800</td>\n",
              "    </tr>\n",
              "  </tbody>\n",
              "</table>\n",
              "</div>"
            ],
            "text/plain": [
              "       Item_Weight  Item_Visibility     Item_MRP  Outlet_Establishment_Year  Item_Outlet_Sales\n",
              "count  7060.000000      8523.000000  8523.000000                8523.000000        8523.000000\n",
              "mean     12.857645         0.066132   140.992782                1997.831867        2181.288914\n",
              "std       4.643456         0.051598    62.275067                   8.371760        1706.499616\n",
              "min       4.555000         0.000000    31.290000                1985.000000          33.290000\n",
              "25%       8.773750         0.026989    93.826500                1987.000000         834.247400\n",
              "50%      12.600000         0.053931   143.012800                1999.000000        1794.331000\n",
              "75%      16.850000         0.094585   185.643700                2004.000000        3101.296400\n",
              "max      21.350000         0.328391   266.888400                2009.000000       13086.964800"
            ]
          },
          "metadata": {
            "tags": []
          },
          "execution_count": 25
        }
      ]
    },
    {
      "cell_type": "code",
      "metadata": {
        "colab": {
          "base_uri": "https://localhost:8080/"
        },
        "id": "sod4bKMQNk9j",
        "outputId": "5c1fcc5d-b13f-4aa5-d8f5-34e49c79497f"
      },
      "source": [
        "train.info()"
      ],
      "execution_count": null,
      "outputs": [
        {
          "output_type": "stream",
          "text": [
            "<class 'pandas.core.frame.DataFrame'>\n",
            "RangeIndex: 8523 entries, 0 to 8522\n",
            "Data columns (total 12 columns):\n",
            " #   Column                     Non-Null Count  Dtype  \n",
            "---  ------                     --------------  -----  \n",
            " 0   Item_Identifier            8523 non-null   object \n",
            " 1   Item_Weight                7060 non-null   float64\n",
            " 2   Item_Fat_Content           8523 non-null   object \n",
            " 3   Item_Visibility            8523 non-null   float64\n",
            " 4   Item_Type                  8523 non-null   object \n",
            " 5   Item_MRP                   8523 non-null   float64\n",
            " 6   Outlet_Identifier          8523 non-null   object \n",
            " 7   Outlet_Establishment_Year  8523 non-null   int64  \n",
            " 8   Outlet_Size                6113 non-null   object \n",
            " 9   Outlet_Location_Type       8523 non-null   object \n",
            " 10  Outlet_Type                8523 non-null   object \n",
            " 11  Item_Outlet_Sales          8523 non-null   float64\n",
            "dtypes: float64(4), int64(1), object(7)\n",
            "memory usage: 799.2+ KB\n"
          ],
          "name": "stdout"
        }
      ]
    },
    {
      "cell_type": "code",
      "metadata": {
        "colab": {
          "base_uri": "https://localhost:8080/"
        },
        "id": "zQHavj_bIrq-",
        "outputId": "7fd29b42-e8c5-40bf-c89c-0d7bedcf5484"
      },
      "source": [
        "train.Outlet_Type.value_counts()"
      ],
      "execution_count": null,
      "outputs": [
        {
          "output_type": "execute_result",
          "data": {
            "text/plain": [
              "Supermarket Type1    5577\n",
              "Grocery Store        1083\n",
              "Supermarket Type3     935\n",
              "Supermarket Type2     928\n",
              "Name: Outlet_Type, dtype: int64"
            ]
          },
          "metadata": {
            "tags": []
          },
          "execution_count": 57
        }
      ]
    },
    {
      "cell_type": "code",
      "metadata": {
        "colab": {
          "base_uri": "https://localhost:8080/"
        },
        "id": "jUOEXyIkMyXU",
        "outputId": "a9e4772b-c0a0-4325-bacc-be4e7da58894"
      },
      "source": [
        "train.Outlet_Type.value_counts()"
      ],
      "execution_count": null,
      "outputs": [
        {
          "output_type": "execute_result",
          "data": {
            "text/plain": [
              "1    5577\n",
              "0    1083\n",
              "3     935\n",
              "2     928\n",
              "Name: Outlet_Type, dtype: int64"
            ]
          },
          "metadata": {
            "tags": []
          },
          "execution_count": 68
        }
      ]
    },
    {
      "cell_type": "code",
      "metadata": {
        "id": "e7TNTfKSJGpv"
      },
      "source": [
        "train_unique_item_identifier = train.Item_Identifier.unique().sort()\n",
        "test_unique_item_identifier = test.Item_Identifier.unique().sort()"
      ],
      "execution_count": null,
      "outputs": []
    },
    {
      "cell_type": "code",
      "metadata": {
        "colab": {
          "base_uri": "https://localhost:8080/"
        },
        "id": "ZB8kTma2KxM_",
        "outputId": "3410639d-e536-4d02-dd97-bc1ca5fb218d"
      },
      "source": [
        "np.array_equal(train_unique_item_identifier, test_unique_item_identifier)"
      ],
      "execution_count": null,
      "outputs": [
        {
          "output_type": "execute_result",
          "data": {
            "text/plain": [
              "True"
            ]
          },
          "metadata": {
            "tags": []
          },
          "execution_count": 31
        }
      ]
    },
    {
      "cell_type": "code",
      "metadata": {
        "colab": {
          "base_uri": "https://localhost:8080/"
        },
        "id": "_qdgR2HIK_at",
        "outputId": "69dfdf22-d2dc-44de-f748-ced310f283af"
      },
      "source": [
        "np.sort(train.Item_Identifier.unique())"
      ],
      "execution_count": null,
      "outputs": [
        {
          "output_type": "execute_result",
          "data": {
            "text/plain": [
              "array([   0,    1,    2, ..., 1556, 1557, 1558])"
            ]
          },
          "metadata": {
            "tags": []
          },
          "execution_count": 37
        }
      ]
    },
    {
      "cell_type": "code",
      "metadata": {
        "colab": {
          "base_uri": "https://localhost:8080/"
        },
        "id": "ipawjG-tLlC0",
        "outputId": "ab30ffe6-ecbc-4797-c96a-e651dc26377a"
      },
      "source": [
        "np.sort(test.Item_Identifier.unique())"
      ],
      "execution_count": null,
      "outputs": [
        {
          "output_type": "execute_result",
          "data": {
            "text/plain": [
              "array([   0,    1,    2, ..., 1540, 1541, 1542])"
            ]
          },
          "metadata": {
            "tags": []
          },
          "execution_count": 38
        }
      ]
    },
    {
      "cell_type": "code",
      "metadata": {
        "colab": {
          "base_uri": "https://localhost:8080/"
        },
        "id": "RLXX_lrLw2rZ",
        "outputId": "49777f5d-6070-440b-c7ca-b49d799e1910"
      },
      "source": [
        "train_original.corr()"
      ],
      "execution_count": null,
      "outputs": [
        {
          "output_type": "execute_result",
          "data": {
            "text/html": [
              "<div>\n",
              "<style scoped>\n",
              "    .dataframe tbody tr th:only-of-type {\n",
              "        vertical-align: middle;\n",
              "    }\n",
              "\n",
              "    .dataframe tbody tr th {\n",
              "        vertical-align: top;\n",
              "    }\n",
              "\n",
              "    .dataframe thead th {\n",
              "        text-align: right;\n",
              "    }\n",
              "</style>\n",
              "<table border=\"1\" class=\"dataframe\">\n",
              "  <thead>\n",
              "    <tr style=\"text-align: right;\">\n",
              "      <th></th>\n",
              "      <th>Item_Weight</th>\n",
              "      <th>Item_Visibility</th>\n",
              "      <th>Item_MRP</th>\n",
              "      <th>Outlet_Establishment_Year</th>\n",
              "      <th>Item_Outlet_Sales</th>\n",
              "    </tr>\n",
              "  </thead>\n",
              "  <tbody>\n",
              "    <tr>\n",
              "      <th>Item_Weight</th>\n",
              "      <td>1.000000</td>\n",
              "      <td>-0.014048</td>\n",
              "      <td>0.027141</td>\n",
              "      <td>-0.011588</td>\n",
              "      <td>0.014123</td>\n",
              "    </tr>\n",
              "    <tr>\n",
              "      <th>Item_Visibility</th>\n",
              "      <td>-0.014048</td>\n",
              "      <td>1.000000</td>\n",
              "      <td>-0.001315</td>\n",
              "      <td>-0.074834</td>\n",
              "      <td>-0.128625</td>\n",
              "    </tr>\n",
              "    <tr>\n",
              "      <th>Item_MRP</th>\n",
              "      <td>0.027141</td>\n",
              "      <td>-0.001315</td>\n",
              "      <td>1.000000</td>\n",
              "      <td>0.005020</td>\n",
              "      <td>0.567574</td>\n",
              "    </tr>\n",
              "    <tr>\n",
              "      <th>Outlet_Establishment_Year</th>\n",
              "      <td>-0.011588</td>\n",
              "      <td>-0.074834</td>\n",
              "      <td>0.005020</td>\n",
              "      <td>1.000000</td>\n",
              "      <td>-0.049135</td>\n",
              "    </tr>\n",
              "    <tr>\n",
              "      <th>Item_Outlet_Sales</th>\n",
              "      <td>0.014123</td>\n",
              "      <td>-0.128625</td>\n",
              "      <td>0.567574</td>\n",
              "      <td>-0.049135</td>\n",
              "      <td>1.000000</td>\n",
              "    </tr>\n",
              "  </tbody>\n",
              "</table>\n",
              "</div>"
            ],
            "text/plain": [
              "                           Item_Weight  Item_Visibility  Item_MRP  Outlet_Establishment_Year  Item_Outlet_Sales\n",
              "Item_Weight                   1.000000        -0.014048  0.027141                  -0.011588           0.014123\n",
              "Item_Visibility              -0.014048         1.000000 -0.001315                  -0.074834          -0.128625\n",
              "Item_MRP                      0.027141        -0.001315  1.000000                   0.005020           0.567574\n",
              "Outlet_Establishment_Year    -0.011588        -0.074834  0.005020                   1.000000          -0.049135\n",
              "Item_Outlet_Sales             0.014123        -0.128625  0.567574                  -0.049135           1.000000"
            ]
          },
          "metadata": {
            "tags": []
          },
          "execution_count": 56
        }
      ]
    },
    {
      "cell_type": "code",
      "metadata": {
        "colab": {
          "base_uri": "https://localhost:8080/"
        },
        "id": "Cj44O3m1FdL_",
        "outputId": "41e889eb-8406-4cb2-ee66-6a9dbfc41e9b"
      },
      "source": [
        "plt.figure(figsize=(15,8))\n",
        "sns.scatterplot(x=train_original.Item_Visibility, y=train_original.Item_Outlet_Sales)"
      ],
      "execution_count": null,
      "outputs": [
        {
          "output_type": "execute_result",
          "data": {
            "text/plain": [
              "<matplotlib.axes._subplots.AxesSubplot at 0x7fb1b4adf110>"
            ]
          },
          "metadata": {
            "tags": []
          },
          "execution_count": 62
        },
        {
          "output_type": "display_data",
          "data": {
            "image/png": "[encoded data removed]",
            "text/plain": [
              "<Figure size 1080x576 with 1 Axes>"
            ]
          },
          "metadata": {
            "tags": [],
            "needs_background": "light"
          }
        }
      ]
    },
    {
      "cell_type": "code",
      "metadata": {
        "id": "sDkpRHlhB9xS"
      },
      "source": [
        "order = train_original.groupby(['Outlet_Identifier'])['Item_Outlet_Sales'].mean().sort_values(ascending=True).index\n",
        "map1=dict([i for i in zip(order,range(1,len(order)+1))])\n",
        "train_original['Outlet_Identifier'].apply(lambda x : map1[x])"
      ],
      "execution_count": null,
      "outputs": []
    },
    {
      "cell_type": "code",
      "metadata": {
        "colab": {
          "base_uri": "https://localhost:8080/"
        },
        "id": "pRhkq-HjDTNf",
        "outputId": "b674ee6c-fb33-4cd1-8a00-f9817ad82e39"
      },
      "source": [
        "print(dict([i for i in zip(order,range(1,len(order)+1))]))"
      ],
      "execution_count": null,
      "outputs": [
        {
          "output_type": "stream",
          "text": [
            "{'OUT010': 1, 'OUT019': 2, 'OUT018': 3, 'OUT045': 4, 'OUT046': 5, 'OUT013': 6, 'OUT017': 7, 'OUT049': 8, 'OUT035': 9, 'OUT027': 10}\n"
          ],
          "name": "stdout"
        }
      ]
    },
    {
      "cell_type": "code",
      "metadata": {
        "colab": {
          "base_uri": "https://localhost:8080/"
        },
        "id": "lkaLD2psHotM",
        "outputId": "0baa5b71-7148-4d51-8c9a-5c69d78ecf41"
      },
      "source": [
        "   plt.figure(figsize=(15,8))\n",
        "sns.histplot(data= train_original, x=train_original.Item_Visibility)"
      ],
      "execution_count": null,
      "outputs": [
        {
          "output_type": "execute_result",
          "data": {
            "text/plain": [
              "<matplotlib.axes._subplots.AxesSubplot at 0x7fb1b49cff50>"
            ]
          },
          "metadata": {
            "tags": []
          },
          "execution_count": 67
        },
        {
          "output_type": "display_data",
          "data": {
            "image/png": "[encoded data removed]",
            "text/plain": [
              "<Figure size 1080x576 with 1 Axes>"
            ]
          },
          "metadata": {
            "tags": [],
            "needs_background": "light"
          }
        }
      ]
    },
    {
      "cell_type": "code",
      "metadata": {
        "id": "6Pvbrx4BU8dC"
      },
      "source": [
        ""
      ],
      "execution_count": null,
      "outputs": []
    },
    {
      "cell_type": "code",
      "metadata": {
        "colab": {
          "base_uri": "https://localhost:8080/"
        },
        "id": "kVb26iibHGfE",
        "outputId": "d502651c-b657-4092-c0f8-5e601f316c74"
      },
      "source": [
        "plt.figure(figsize=(15,8))\n",
        "sns.scatterplot(y=train_original.Item_Weight,x=train_original.Item_Outlet_Sales)"
      ],
      "execution_count": null,
      "outputs": [
        {
          "output_type": "execute_result",
          "data": {
            "text/plain": [
              "<matplotlib.axes._subplots.AxesSubplot at 0x7f4388765cd0>"
            ]
          },
          "metadata": {
            "tags": []
          },
          "execution_count": 9
        },
        {
          "output_type": "display_data",
          "data": {
            "image/png": "[encoded data removed]",
            "text/plain": [
              "<Figure size 1080x576 with 1 Axes>"
            ]
          },
          "metadata": {
            "tags": [],
            "needs_background": "light"
          }
        }
      ]
    },
    {
      "cell_type": "code",
      "metadata": {
        "id": "yP8zrfIaIKwk"
      },
      "source": [
        "null_outlet_size = train_original.loc[train_original.Outlet_Size.isnull()]"
      ],
      "execution_count": null,
      "outputs": []
    },
    {
      "cell_type": "code",
      "metadata": {
        "colab": {
          "base_uri": "https://localhost:8080/"
        },
        "id": "v74rdpy-RQ_W",
        "outputId": "11e30306-2106-46cd-bcc0-95cb712b26e0"
      },
      "source": [
        "null_outlet_size.columns"
      ],
      "execution_count": null,
      "outputs": [
        {
          "output_type": "execute_result",
          "data": {
            "text/plain": [
              "Index(['Item_Identifier', 'Item_Weight', 'Item_Fat_Content', 'Item_Visibility', 'Item_Type', 'Item_MRP', 'Outlet_Identifier', 'Outlet_Establishment_Year', 'Outlet_Size', 'Outlet_Location_Type', 'Outlet_Type', 'Item_Outlet_Sales'], dtype='object')"
            ]
          },
          "metadata": {
            "tags": []
          },
          "execution_count": 10
        }
      ]
    },
    {
      "cell_type": "code",
      "metadata": {
        "colab": {
          "base_uri": "https://localhost:8080/"
        },
        "id": "deLhmjtwTU08",
        "outputId": "84281e4e-f9eb-4d9a-c17f-cbfd1f4fcd03"
      },
      "source": [
        "train_original.Outlet_Identifier.value_counts()"
      ],
      "execution_count": null,
      "outputs": [
        {
          "output_type": "execute_result",
          "data": {
            "text/plain": [
              "OUT027    935\n",
              "OUT013    932\n",
              "OUT049    930\n",
              "OUT046    930\n",
              "OUT035    930\n",
              "OUT045    929\n",
              "OUT018    928\n",
              "OUT017    926\n",
              "OUT010    555\n",
              "OUT019    528\n",
              "Name: Outlet_Identifier, dtype: int64"
            ]
          },
          "metadata": {
            "tags": []
          },
          "execution_count": 12
        }
      ]
    },
    {
      "cell_type": "code",
      "metadata": {
        "colab": {
          "base_uri": "https://localhost:8080/"
        },
        "id": "KnPXfJbHR_oC",
        "outputId": "d8b6d1f6-098c-4eef-d7cd-bb9c7329fbad"
      },
      "source": [
        "null_outlet_size.Outlet_Identifier.value_counts()"
      ],
      "execution_count": null,
      "outputs": [
        {
          "output_type": "execute_result",
          "data": {
            "text/plain": [
              "OUT045    929\n",
              "OUT017    926\n",
              "OUT010    555\n",
              "Name: Outlet_Identifier, dtype: int64"
            ]
          },
          "metadata": {
            "tags": []
          },
          "execution_count": 11
        }
      ]
    },
    {
      "cell_type": "code",
      "metadata": {
        "colab": {
          "base_uri": "https://localhost:8080/"
        },
        "id": "X9ZcaupeULHH",
        "outputId": "cc6548ce-db59-4482-8d3d-4ddbefaed6e9"
      },
      "source": [
        "test_original.loc[test_original.Outlet_Size.isnull()].Outlet_Identifier.value_counts()"
      ],
      "execution_count": null,
      "outputs": [
        {
          "output_type": "execute_result",
          "data": {
            "text/plain": [
              "OUT045    619\n",
              "OUT017    617\n",
              "OUT010    370\n",
              "Name: Outlet_Identifier, dtype: int64"
            ]
          },
          "metadata": {
            "tags": []
          },
          "execution_count": 16
        }
      ]
    },
    {
      "cell_type": "code",
      "metadata": {
        "colab": {
          "base_uri": "https://localhost:8080/"
        },
        "id": "qo9lurFoUYZl",
        "outputId": "8a95ceee-f0a1-4f36-e6e3-07cb07cd3bf1"
      },
      "source": [
        "test_original.info()"
      ],
      "execution_count": null,
      "outputs": [
        {
          "output_type": "stream",
          "text": [
            "<class 'pandas.core.frame.DataFrame'>\n",
            "RangeIndex: 5681 entries, 0 to 5680\n",
            "Data columns (total 11 columns):\n",
            " #   Column                     Non-Null Count  Dtype  \n",
            "---  ------                     --------------  -----  \n",
            " 0   Item_Identifier            5681 non-null   object \n",
            " 1   Item_Weight                4705 non-null   float64\n",
            " 2   Item_Fat_Content           5681 non-null   object \n",
            " 3   Item_Visibility            5681 non-null   float64\n",
            " 4   Item_Type                  5681 non-null   object \n",
            " 5   Item_MRP                   5681 non-null   float64\n",
            " 6   Outlet_Identifier          5681 non-null   object \n",
            " 7   Outlet_Establishment_Year  5681 non-null   int64  \n",
            " 8   Outlet_Size                4075 non-null   object \n",
            " 9   Outlet_Location_Type       5681 non-null   object \n",
            " 10  Outlet_Type                5681 non-null   object \n",
            "dtypes: float64(3), int64(1), object(7)\n",
            "memory usage: 488.3+ KB\n"
          ],
          "name": "stdout"
        }
      ]
    },
    {
      "cell_type": "code",
      "metadata": {
        "colab": {
          "base_uri": "https://localhost:8080/"
        },
        "id": "tMrOGRPmyila",
        "outputId": "0945ef87-1706-4766-c064-bb0e9d355fcd"
      },
      "source": [
        "train.shape"
      ],
      "execution_count": null,
      "outputs": [
        {
          "output_type": "execute_result",
          "data": {
            "text/plain": [
              "(8523, 12)"
            ]
          },
          "metadata": {
            "tags": []
          },
          "execution_count": 149
        }
      ]
    },
    {
      "cell_type": "markdown",
      "metadata": {
        "id": "AHuCAK5CiTjf"
      },
      "source": [
        "# Preprocessing"
      ]
    },
    {
      "cell_type": "code",
      "metadata": {
        "id": "yiOuRdJRid-C"
      },
      "source": [
        "encoder = LabelEncoder()"
      ],
      "execution_count": null,
      "outputs": []
    },
    {
      "cell_type": "code",
      "metadata": {
        "id": "_AbAfk-tikSz"
      },
      "source": [
        "train.Item_Identifier = encoder.fit_transform(train.Item_Identifier)\n",
        "test.Item_Identifier = encoder.fit_transform(test.Item_Identifier)"
      ],
      "execution_count": null,
      "outputs": []
    },
    {
      "cell_type": "code",
      "metadata": {
        "id": "z9Qx_CfTYDJc"
      },
      "source": [
        "Item_Fat_Content = train.Item_Fat_Content.map({'LF':'Low Fat','reg': 'Regular', 'low fat':'Low Fat', 'Low Fat':'Low Fat', 'Regular':'Regular'})\n",
        "train.Item_Fat_Content = encoder.fit_transform(Item_Fat_Content)\n",
        "del Item_Fat_Content\n",
        "\n",
        "Item_Fat_Content = test.Item_Fat_Content.map({'LF':'Low Fat','reg': 'Regular', 'low fat':'Low Fat', 'Low Fat':'Low Fat', 'Regular':'Regular'})\n",
        "test.Item_Fat_Content = encoder.fit_transform(Item_Fat_Content)\n",
        "del Item_Fat_Content"
      ],
      "execution_count": null,
      "outputs": []
    },
    {
      "cell_type": "code",
      "metadata": {
        "id": "csjJnD6CuAAm"
      },
      "source": [
        "train.Item_Type = encoder.fit_transform(train.Item_Type)\n",
        "test.Item_Type = encoder.fit_transform(test.Item_Type)"
      ],
      "execution_count": null,
      "outputs": []
    },
    {
      "cell_type": "code",
      "metadata": {
        "id": "wSdqWzLYkcq2"
      },
      "source": [
        "train.Outlet_Identifier = train.Outlet_Identifier.str.lstrip('OUT').astype(np.int8)\n",
        "test.Outlet_Identifier = test.Outlet_Identifier.str.lstrip('OUT').astype(np.int8)"
      ],
      "execution_count": null,
      "outputs": []
    },
    {
      "cell_type": "code",
      "metadata": {
        "id": "HurtgAZmk3eD"
      },
      "source": [
        "train['Outlet_Age'] = 2013 - train.Outlet_Establishment_Year\n",
        "test['Outlet_Age'] = 2013 - test.Outlet_Establishment_Year"
      ],
      "execution_count": null,
      "outputs": []
    },
    {
      "cell_type": "code",
      "metadata": {
        "id": "-2jGoDt2mq0q"
      },
      "source": [
        "train.Outlet_Location_Type = encoder.fit_transform(train.Outlet_Location_Type)\n",
        "test.Outlet_Location_Type = encoder.fit_transform(test.Outlet_Location_Type)"
      ],
      "execution_count": null,
      "outputs": []
    },
    {
      "cell_type": "code",
      "metadata": {
        "id": "Rr1R1x4XxIyK"
      },
      "source": [
        "train.Outlet_Type = encoder.fit_transform(train.Outlet_Type)\n",
        "test.Outlet_Type = encoder.fit_transform(test.Outlet_Type)"
      ],
      "execution_count": null,
      "outputs": []
    },
    {
      "cell_type": "code",
      "metadata": {
        "id": "mDlv5NBq052d"
      },
      "source": [
        "train.Outlet_Size.fillna(value='Unknown', inplace = True)\n",
        "test.Outlet_Size.fillna(value='Medium', inplace = True)"
      ],
      "execution_count": null,
      "outputs": []
    },
    {
      "cell_type": "code",
      "metadata": {
        "id": "xU3CdvrKR6VR"
      },
      "source": [
        "enc=OrdinalEncoder(categories=[['Small', 'Medium', 'High']], dtype=np.int8)\n",
        "train.Outlet_Size = enc.fit_transform(train.Outlet_Size.values.reshape(-1, 1))\n",
        "test.Outlet_Size = enc.fit_transform(test.Outlet_Size.values.reshape(-1, 1))"
      ],
      "execution_count": null,
      "outputs": []
    },
    {
      "cell_type": "code",
      "metadata": {
        "id": "aAbdz7JEiort"
      },
      "source": [
        "zeros_train = np.zeros((train.shape[0],1), dtype=np.int8)\n",
        "zeros_train[train.Item_Visibility == 0] = 1\n",
        "train['zero_visibility'] = zeros_train\n",
        "\n",
        "zeros_test = np.zeros((test.shape[0],1), dtype=np.int8)\n",
        "zeros_test[test.Item_Visibility == 0] = 1\n",
        "test['zero_visibility'] = zeros_test"
      ],
      "execution_count": null,
      "outputs": []
    },
    {
      "cell_type": "markdown",
      "metadata": {
        "id": "Wgehd8OEr52K"
      },
      "source": [
        "# Missing values"
      ]
    },
    {
      "cell_type": "code",
      "metadata": {
        "id": "s8sVNbjEuzF3"
      },
      "source": [
        "train.Item_Weight = train.Item_Weight.fillna(train.groupby(['Item_Identifier'])['Item_Weight'].transform('mean'))\n",
        "test.Item_Weight = test.Item_Weight.fillna(test.groupby(['Item_Identifier'])['Item_Weight'].transform('mean'))"
      ],
      "execution_count": null,
      "outputs": []
    },
    {
      "cell_type": "markdown",
      "metadata": {
        "id": "HSxStMwqybK9"
      },
      "source": [
        "# Transformed dataset"
      ]
    },
    {
      "cell_type": "code",
      "metadata": {
        "colab": {
          "base_uri": "https://localhost:8080/"
        },
        "id": "21LPK-jIunUi",
        "outputId": "d0805b88-52fd-43da-dd05-737ceacde1aa"
      },
      "source": [
        "train.head()"
      ],
      "execution_count": null,
      "outputs": [
        {
          "output_type": "execute_result",
          "data": {
            "text/html": [
              "<div>\n",
              "<style scoped>\n",
              "    .dataframe tbody tr th:only-of-type {\n",
              "        vertical-align: middle;\n",
              "    }\n",
              "\n",
              "    .dataframe tbody tr th {\n",
              "        vertical-align: top;\n",
              "    }\n",
              "\n",
              "    .dataframe thead th {\n",
              "        text-align: right;\n",
              "    }\n",
              "</style>\n",
              "<table border=\"1\" class=\"dataframe\">\n",
              "  <thead>\n",
              "    <tr style=\"text-align: right;\">\n",
              "      <th></th>\n",
              "      <th>Item_Identifier</th>\n",
              "      <th>Item_Weight</th>\n",
              "      <th>Item_Fat_Content</th>\n",
              "      <th>Item_Visibility</th>\n",
              "      <th>Item_Type</th>\n",
              "      <th>Item_MRP</th>\n",
              "      <th>Outlet_Identifier</th>\n",
              "      <th>Outlet_Establishment_Year</th>\n",
              "      <th>Outlet_Size</th>\n",
              "      <th>Outlet_Location_Type</th>\n",
              "      <th>Outlet_Type</th>\n",
              "      <th>Item_Outlet_Sales</th>\n",
              "      <th>Outlet_Age</th>\n",
              "      <th>zero_visibility</th>\n",
              "    </tr>\n",
              "  </thead>\n",
              "  <tbody>\n",
              "    <tr>\n",
              "      <th>0</th>\n",
              "      <td>156</td>\n",
              "      <td>9.30</td>\n",
              "      <td>0</td>\n",
              "      <td>0.016047</td>\n",
              "      <td>4</td>\n",
              "      <td>249.8092</td>\n",
              "      <td>49</td>\n",
              "      <td>1999</td>\n",
              "      <td>1</td>\n",
              "      <td>0</td>\n",
              "      <td>1</td>\n",
              "      <td>3735.1380</td>\n",
              "      <td>14</td>\n",
              "      <td>0</td>\n",
              "    </tr>\n",
              "    <tr>\n",
              "      <th>1</th>\n",
              "      <td>8</td>\n",
              "      <td>5.92</td>\n",
              "      <td>1</td>\n",
              "      <td>0.019278</td>\n",
              "      <td>14</td>\n",
              "      <td>48.2692</td>\n",
              "      <td>18</td>\n",
              "      <td>2009</td>\n",
              "      <td>1</td>\n",
              "      <td>2</td>\n",
              "      <td>2</td>\n",
              "      <td>443.4228</td>\n",
              "      <td>4</td>\n",
              "      <td>0</td>\n",
              "    </tr>\n",
              "    <tr>\n",
              "      <th>2</th>\n",
              "      <td>662</td>\n",
              "      <td>17.50</td>\n",
              "      <td>0</td>\n",
              "      <td>0.016760</td>\n",
              "      <td>10</td>\n",
              "      <td>141.6180</td>\n",
              "      <td>49</td>\n",
              "      <td>1999</td>\n",
              "      <td>1</td>\n",
              "      <td>0</td>\n",
              "      <td>1</td>\n",
              "      <td>2097.2700</td>\n",
              "      <td>14</td>\n",
              "      <td>0</td>\n",
              "    </tr>\n",
              "    <tr>\n",
              "      <th>3</th>\n",
              "      <td>1121</td>\n",
              "      <td>19.20</td>\n",
              "      <td>1</td>\n",
              "      <td>0.000000</td>\n",
              "      <td>6</td>\n",
              "      <td>182.0950</td>\n",
              "      <td>10</td>\n",
              "      <td>1998</td>\n",
              "      <td>1</td>\n",
              "      <td>2</td>\n",
              "      <td>0</td>\n",
              "      <td>732.3800</td>\n",
              "      <td>15</td>\n",
              "      <td>1</td>\n",
              "    </tr>\n",
              "    <tr>\n",
              "      <th>4</th>\n",
              "      <td>1297</td>\n",
              "      <td>8.93</td>\n",
              "      <td>0</td>\n",
              "      <td>0.000000</td>\n",
              "      <td>9</td>\n",
              "      <td>53.8614</td>\n",
              "      <td>13</td>\n",
              "      <td>1987</td>\n",
              "      <td>2</td>\n",
              "      <td>2</td>\n",
              "      <td>1</td>\n",
              "      <td>994.7052</td>\n",
              "      <td>26</td>\n",
              "      <td>1</td>\n",
              "    </tr>\n",
              "  </tbody>\n",
              "</table>\n",
              "</div>"
            ],
            "text/plain": [
              "   Item_Identifier  Item_Weight  Item_Fat_Content  Item_Visibility  Item_Type  Item_MRP  Outlet_Identifier  Outlet_Establishment_Year  Outlet_Size  Outlet_Location_Type  Outlet_Type  Item_Outlet_Sales  Outlet_Age  zero_visibility\n",
              "0              156         9.30                 0         0.016047          4  249.8092                 49                       1999            1                     0            1          3735.1380          14                0\n",
              "1                8         5.92                 1         0.019278         14   48.2692                 18                       2009            1                     2            2           443.4228           4                0\n",
              "2              662        17.50                 0         0.016760         10  141.6180                 49                       1999            1                     0            1          2097.2700          14                0\n",
              "3             1121        19.20                 1         0.000000          6  182.0950                 10                       1998            1                     2            0           732.3800          15                1\n",
              "4             1297         8.93                 0         0.000000          9   53.8614                 13                       1987            2                     2            1           994.7052          26                1"
            ]
          },
          "metadata": {
            "tags": []
          },
          "execution_count": 17
        }
      ]
    },
    {
      "cell_type": "code",
      "metadata": {
        "id": "fhppijDw7Fme"
      },
      "source": [
        "train.drop(labels=['Outlet_Establishment_Year'], axis=1, inplace=True)\n",
        "test.drop(labels=['Outlet_Establishment_Year'], axis=1, inplace=True)"
      ],
      "execution_count": null,
      "outputs": []
    },
    {
      "cell_type": "code",
      "metadata": {
        "colab": {
          "base_uri": "https://localhost:8080/"
        },
        "id": "dC7oJiYH7YBA",
        "outputId": "66eb1aa7-e321-42a9-da1e-03ca6be17546"
      },
      "source": [
        "train.head()"
      ],
      "execution_count": null,
      "outputs": [
        {
          "output_type": "execute_result",
          "data": {
            "text/html": [
              "<div>\n",
              "<style scoped>\n",
              "    .dataframe tbody tr th:only-of-type {\n",
              "        vertical-align: middle;\n",
              "    }\n",
              "\n",
              "    .dataframe tbody tr th {\n",
              "        vertical-align: top;\n",
              "    }\n",
              "\n",
              "    .dataframe thead th {\n",
              "        text-align: right;\n",
              "    }\n",
              "</style>\n",
              "<table border=\"1\" class=\"dataframe\">\n",
              "  <thead>\n",
              "    <tr style=\"text-align: right;\">\n",
              "      <th></th>\n",
              "      <th>Item_Identifier</th>\n",
              "      <th>Item_Weight</th>\n",
              "      <th>Item_Fat_Content</th>\n",
              "      <th>Item_Visibility</th>\n",
              "      <th>Item_Type</th>\n",
              "      <th>Item_MRP</th>\n",
              "      <th>Outlet_Identifier</th>\n",
              "      <th>Outlet_Size</th>\n",
              "      <th>Outlet_Location_Type</th>\n",
              "      <th>Outlet_Type</th>\n",
              "      <th>Item_Outlet_Sales</th>\n",
              "      <th>Outlet_Age</th>\n",
              "      <th>zero_visibility</th>\n",
              "    </tr>\n",
              "  </thead>\n",
              "  <tbody>\n",
              "    <tr>\n",
              "      <th>0</th>\n",
              "      <td>156</td>\n",
              "      <td>9.30</td>\n",
              "      <td>0</td>\n",
              "      <td>0.016047</td>\n",
              "      <td>4</td>\n",
              "      <td>249.8092</td>\n",
              "      <td>49</td>\n",
              "      <td>1</td>\n",
              "      <td>0</td>\n",
              "      <td>1</td>\n",
              "      <td>3735.1380</td>\n",
              "      <td>14</td>\n",
              "      <td>0</td>\n",
              "    </tr>\n",
              "    <tr>\n",
              "      <th>1</th>\n",
              "      <td>8</td>\n",
              "      <td>5.92</td>\n",
              "      <td>1</td>\n",
              "      <td>0.019278</td>\n",
              "      <td>14</td>\n",
              "      <td>48.2692</td>\n",
              "      <td>18</td>\n",
              "      <td>1</td>\n",
              "      <td>2</td>\n",
              "      <td>2</td>\n",
              "      <td>443.4228</td>\n",
              "      <td>4</td>\n",
              "      <td>0</td>\n",
              "    </tr>\n",
              "    <tr>\n",
              "      <th>2</th>\n",
              "      <td>662</td>\n",
              "      <td>17.50</td>\n",
              "      <td>0</td>\n",
              "      <td>0.016760</td>\n",
              "      <td>10</td>\n",
              "      <td>141.6180</td>\n",
              "      <td>49</td>\n",
              "      <td>1</td>\n",
              "      <td>0</td>\n",
              "      <td>1</td>\n",
              "      <td>2097.2700</td>\n",
              "      <td>14</td>\n",
              "      <td>0</td>\n",
              "    </tr>\n",
              "    <tr>\n",
              "      <th>3</th>\n",
              "      <td>1121</td>\n",
              "      <td>19.20</td>\n",
              "      <td>1</td>\n",
              "      <td>0.000000</td>\n",
              "      <td>6</td>\n",
              "      <td>182.0950</td>\n",
              "      <td>10</td>\n",
              "      <td>1</td>\n",
              "      <td>2</td>\n",
              "      <td>0</td>\n",
              "      <td>732.3800</td>\n",
              "      <td>15</td>\n",
              "      <td>1</td>\n",
              "    </tr>\n",
              "    <tr>\n",
              "      <th>4</th>\n",
              "      <td>1297</td>\n",
              "      <td>8.93</td>\n",
              "      <td>0</td>\n",
              "      <td>0.000000</td>\n",
              "      <td>9</td>\n",
              "      <td>53.8614</td>\n",
              "      <td>13</td>\n",
              "      <td>2</td>\n",
              "      <td>2</td>\n",
              "      <td>1</td>\n",
              "      <td>994.7052</td>\n",
              "      <td>26</td>\n",
              "      <td>1</td>\n",
              "    </tr>\n",
              "  </tbody>\n",
              "</table>\n",
              "</div>"
            ],
            "text/plain": [
              "   Item_Identifier  Item_Weight  Item_Fat_Content  Item_Visibility  Item_Type  Item_MRP  Outlet_Identifier  Outlet_Size  Outlet_Location_Type  Outlet_Type  Item_Outlet_Sales  Outlet_Age  zero_visibility\n",
              "0              156         9.30                 0         0.016047          4  249.8092                 49            1                     0            1          3735.1380          14                0\n",
              "1                8         5.92                 1         0.019278         14   48.2692                 18            1                     2            2           443.4228           4                0\n",
              "2              662        17.50                 0         0.016760         10  141.6180                 49            1                     0            1          2097.2700          14                0\n",
              "3             1121        19.20                 1         0.000000          6  182.0950                 10            1                     2            0           732.3800          15                1\n",
              "4             1297         8.93                 0         0.000000          9   53.8614                 13            2                     2            1           994.7052          26                1"
            ]
          },
          "metadata": {
            "tags": []
          },
          "execution_count": 19
        }
      ]
    },
    {
      "cell_type": "code",
      "metadata": {
        "id": "neBT1eBSIj5a"
      },
      "source": [
        "y = train.Item_Outlet_Sales\n",
        "X = train.drop(labels=['Item_Outlet_Sales'], axis=1) "
      ],
      "execution_count": null,
      "outputs": []
    },
    {
      "cell_type": "markdown",
      "metadata": {
        "id": "dhU15YWH7cby"
      },
      "source": [
        "# Model building"
      ]
    },
    {
      "cell_type": "markdown",
      "metadata": {
        "id": "89b5O6bw7iqK"
      },
      "source": [
        "### Train - validation spilt"
      ]
    },
    {
      "cell_type": "markdown",
      "metadata": {
        "id": "_T2e-Ea9BApl"
      },
      "source": [
        "Lets try to find by what parameter was spliting based on in this competition. After some research on the dataset, found that the split was done based on 'Outlet_Identifier' column."
      ]
    },
    {
      "cell_type": "code",
      "metadata": {
        "colab": {
          "base_uri": "https://localhost:8080/"
        },
        "id": "45y9smIV8FcO",
        "outputId": "7b215f88-1a2d-4bd7-d583-81a96d17d3a8"
      },
      "source": [
        "train.Outlet_Identifier.value_counts()"
      ],
      "execution_count": null,
      "outputs": [
        {
          "output_type": "execute_result",
          "data": {
            "text/plain": [
              "27    935\n",
              "13    932\n",
              "46    930\n",
              "35    930\n",
              "49    930\n",
              "45    929\n",
              "18    928\n",
              "17    926\n",
              "10    555\n",
              "19    528\n",
              "Name: Outlet_Identifier, dtype: int64"
            ]
          },
          "metadata": {
            "tags": []
          },
          "execution_count": 20
        }
      ]
    },
    {
      "cell_type": "code",
      "metadata": {
        "colab": {
          "base_uri": "https://localhost:8080/"
        },
        "id": "xEGcP6xzBhNh",
        "outputId": "1187f1d6-ca54-4383-ef1f-5ae40b8482c9"
      },
      "source": [
        "test.Outlet_Identifier.value_counts()"
      ],
      "execution_count": null,
      "outputs": [
        {
          "output_type": "execute_result",
          "data": {
            "text/plain": [
              "27    624\n",
              "13    621\n",
              "35    620\n",
              "46    620\n",
              "49    620\n",
              "45    619\n",
              "18    618\n",
              "17    617\n",
              "10    370\n",
              "19    352\n",
              "Name: Outlet_Identifier, dtype: int64"
            ]
          },
          "metadata": {
            "tags": []
          },
          "execution_count": 21
        }
      ]
    },
    {
      "cell_type": "code",
      "metadata": {
        "colab": {
          "base_uri": "https://localhost:8080/"
        },
        "id": "psD0GRZy_vIn",
        "outputId": "8edcff78-ffa3-414b-a03e-9dc732c3d714"
      },
      "source": [
        "train_outlet_ids_value_counts = train.Outlet_Identifier.value_counts()\n",
        "test_outlet_ids_value_counts = test.Outlet_Identifier.value_counts()\n",
        "\n",
        "train_outlet_ids_count = train_outlet_ids_value_counts.values\n",
        "test_outlet_ids_count = test_outlet_ids_value_counts.values\n",
        "\n",
        "train_outlet_ids = train_outlet_ids_value_counts.index.tolist()\n",
        "test_outlet_ids = test_outlet_ids_value_counts.index.tolist()\n",
        "\n",
        "for index in range(len(train_outlet_ids_value_counts)):\n",
        "  trainset_percent = np.round((train_outlet_ids_count[index]/(train_outlet_ids_count[index] + test_outlet_ids_count[index]))*100)\n",
        "  testset_percent = np.round((test_outlet_ids_count[index]/(train_outlet_ids_count[index] + test_outlet_ids_count[index]))*100)\n",
        "  print('Outlet_id : %s --- trainset %s , testset %s'% (train_outlet_ids[index], trainset_percent, testset_percent))"
      ],
      "execution_count": null,
      "outputs": [
        {
          "output_type": "stream",
          "text": [
            "Outlet_id : 27 --- trainset 60.0 , testset 40.0\n",
            "Outlet_id : 13 --- trainset 60.0 , testset 40.0\n",
            "Outlet_id : 46 --- trainset 60.0 , testset 40.0\n",
            "Outlet_id : 35 --- trainset 60.0 , testset 40.0\n",
            "Outlet_id : 49 --- trainset 60.0 , testset 40.0\n",
            "Outlet_id : 45 --- trainset 60.0 , testset 40.0\n",
            "Outlet_id : 18 --- trainset 60.0 , testset 40.0\n",
            "Outlet_id : 17 --- trainset 60.0 , testset 40.0\n",
            "Outlet_id : 10 --- trainset 60.0 , testset 40.0\n",
            "Outlet_id : 19 --- trainset 60.0 , testset 40.0\n"
          ],
          "name": "stdout"
        }
      ]
    },
    {
      "cell_type": "markdown",
      "metadata": {
        "id": "85OribiMoC3u"
      },
      "source": [
        "As seen from above, every outlet id (Outlet_Identifier) is divided into 60% as train set and 40% as test set from the main dataset. So to imitate this I will be using the same percentage of split on outlet identifier for train - validation split from the train set for cross-validation."
      ]
    },
    {
      "cell_type": "code",
      "metadata": {
        "id": "-_aIBrJscG-R"
      },
      "source": [
        "X_train, X_val, y_train, y_val = train_test_split(X,y,test_size=0.4,random_state=69,stratify=train.Outlet_Identifier,shuffle=True)"
      ],
      "execution_count": null,
      "outputs": []
    },
    {
      "cell_type": "code",
      "metadata": {
        "id": "0XrbKLyKKjp1",
        "colab": {
          "base_uri": "https://localhost:8080/"
        },
        "outputId": "dc2129e4-f308-4882-bdaa-a61d09b5a4e1"
      },
      "source": [
        "X_train_outlet_ids_value_counts = X_train.Outlet_Identifier.value_counts()\n",
        "X_val_outlet_ids_value_counts = X_val.Outlet_Identifier.value_counts()\n",
        "\n",
        "X_train_outlet_ids_count = X_train_outlet_ids_value_counts.values\n",
        "X_val_outlet_ids_count = X_val_outlet_ids_value_counts.values\n",
        "\n",
        "X_train_outlet_ids = X_train_outlet_ids_value_counts.index.tolist()\n",
        "X_val_outlet_ids = X_val_outlet_ids_value_counts.index.tolist()\n",
        "\n",
        "for index in range(len(X_train_outlet_ids_value_counts)):\n",
        "  trainset_percent = np.round((X_train_outlet_ids_count[index]/(X_train_outlet_ids_count[index] + X_val_outlet_ids_count[index]))*100)\n",
        "  testset_percent = np.round((X_val_outlet_ids_count[index]/(X_train_outlet_ids_count[index] + X_val_outlet_ids_count[index]))*100)\n",
        "  print('Outlet_id : %s --- trainset %s , testset %s'% (X_train_outlet_ids[index], trainset_percent, testset_percent))"
      ],
      "execution_count": null,
      "outputs": [
        {
          "output_type": "stream",
          "text": [
            "Outlet_id : 27 --- trainset 60.0 , testset 40.0\n",
            "Outlet_id : 13 --- trainset 60.0 , testset 40.0\n",
            "Outlet_id : 35 --- trainset 60.0 , testset 40.0\n",
            "Outlet_id : 46 --- trainset 60.0 , testset 40.0\n",
            "Outlet_id : 49 --- trainset 60.0 , testset 40.0\n",
            "Outlet_id : 18 --- trainset 60.0 , testset 40.0\n",
            "Outlet_id : 45 --- trainset 60.0 , testset 40.0\n",
            "Outlet_id : 17 --- trainset 60.0 , testset 40.0\n",
            "Outlet_id : 10 --- trainset 60.0 , testset 40.0\n",
            "Outlet_id : 19 --- trainset 60.0 , testset 40.0\n"
          ],
          "name": "stdout"
        }
      ]
    },
    {
      "cell_type": "markdown",
      "metadata": {
        "id": "L5v7FD1qrVmB"
      },
      "source": [
        "###Baseline Model"
      ]
    },
    {
      "cell_type": "code",
      "metadata": {
        "id": "IKLokmYfrbDQ"
      },
      "source": [
        "mean_y = y_train.mean()\n",
        "\n",
        "predictions = np.ones((y_val.shape[0],1)) * mean_y\n",
        "\n",
        "rmse = np.sqrt(mean_squared_error(y_val,predictions))"
      ],
      "execution_count": null,
      "outputs": []
    },
    {
      "cell_type": "code",
      "metadata": {
        "colab": {
          "base_uri": "https://localhost:8080/"
        },
        "id": "9x0WYV_VW1j2",
        "outputId": "aa090306-c973-4843-d852-f9f5a0d29173"
      },
      "source": [
        "rmse"
      ],
      "execution_count": null,
      "outputs": [
        {
          "output_type": "execute_result",
          "data": {
            "text/plain": [
              "1712.237164857349"
            ]
          },
          "metadata": {
            "tags": []
          },
          "execution_count": 78
        }
      ]
    },
    {
      "cell_type": "markdown",
      "metadata": {
        "id": "JdMa2vukxEli"
      },
      "source": [
        "###Linear Regression"
      ]
    },
    {
      "cell_type": "code",
      "metadata": {
        "id": "8Tb6-SjYxPR2"
      },
      "source": [
        "import "
      ],
      "execution_count": null,
      "outputs": []
    },
    {
      "cell_type": "markdown",
      "metadata": {
        "id": "lwIsaD3ydlp0"
      },
      "source": [
        "###XGBoost"
      ]
    },
    {
      "cell_type": "markdown",
      "metadata": {
        "id": "om3EbE1iFrfi"
      },
      "source": [
        "#####Preprocess for XGBoost"
      ]
    },
    {
      "cell_type": "code",
      "metadata": {
        "id": "Fq-YwQQXZ2d0"
      },
      "source": [
        "X_xgb = X.copy()\n",
        "y_xgb = y.copy()"
      ],
      "execution_count": null,
      "outputs": []
    },
    {
      "cell_type": "code",
      "metadata": {
        "id": "8801PDIoSLnJ"
      },
      "source": [
        "X_xgb = pd.get_dummies(X_xgb, columns=['Item_Type', 'Outlet_Type', 'Outlet_Size', 'Outlet_Location_Type'])"
      ],
      "execution_count": null,
      "outputs": []
    },
    {
      "cell_type": "code",
      "metadata": {
        "colab": {
          "base_uri": "https://localhost:8080/"
        },
        "id": "oVr0buVKNZbS",
        "outputId": "9a65c6ea-02a1-4e18-bee8-b700331aad96"
      },
      "source": [
        "X_xgb.head()"
      ],
      "execution_count": null,
      "outputs": [
        {
          "output_type": "execute_result",
          "data": {
            "text/html": [
              "<div>\n",
              "<style scoped>\n",
              "    .dataframe tbody tr th:only-of-type {\n",
              "        vertical-align: middle;\n",
              "    }\n",
              "\n",
              "    .dataframe tbody tr th {\n",
              "        vertical-align: top;\n",
              "    }\n",
              "\n",
              "    .dataframe thead th {\n",
              "        text-align: right;\n",
              "    }\n",
              "</style>\n",
              "<table border=\"1\" class=\"dataframe\">\n",
              "  <thead>\n",
              "    <tr style=\"text-align: right;\">\n",
              "      <th></th>\n",
              "      <th>Item_Identifier</th>\n",
              "      <th>Item_Weight</th>\n",
              "      <th>Item_Fat_Content</th>\n",
              "      <th>Item_Visibility</th>\n",
              "      <th>Item_MRP</th>\n",
              "      <th>Outlet_Identifier</th>\n",
              "      <th>Outlet_Age</th>\n",
              "      <th>zero_visibility</th>\n",
              "      <th>Item_Type_0</th>\n",
              "      <th>Item_Type_1</th>\n",
              "      <th>Item_Type_2</th>\n",
              "      <th>Item_Type_3</th>\n",
              "      <th>Item_Type_4</th>\n",
              "      <th>Item_Type_5</th>\n",
              "      <th>Item_Type_6</th>\n",
              "      <th>Item_Type_7</th>\n",
              "      <th>Item_Type_8</th>\n",
              "      <th>Item_Type_9</th>\n",
              "      <th>Item_Type_10</th>\n",
              "      <th>Item_Type_11</th>\n",
              "      <th>Item_Type_12</th>\n",
              "      <th>Item_Type_13</th>\n",
              "      <th>Item_Type_14</th>\n",
              "      <th>Item_Type_15</th>\n",
              "      <th>Outlet_Type_0</th>\n",
              "      <th>Outlet_Type_1</th>\n",
              "      <th>Outlet_Type_2</th>\n",
              "      <th>Outlet_Type_3</th>\n",
              "      <th>Outlet_Size_0</th>\n",
              "      <th>Outlet_Size_1</th>\n",
              "      <th>Outlet_Size_2</th>\n",
              "      <th>Outlet_Location_Type_0</th>\n",
              "      <th>Outlet_Location_Type_1</th>\n",
              "      <th>Outlet_Location_Type_2</th>\n",
              "    </tr>\n",
              "  </thead>\n",
              "  <tbody>\n",
              "    <tr>\n",
              "      <th>0</th>\n",
              "      <td>156</td>\n",
              "      <td>9.30</td>\n",
              "      <td>0</td>\n",
              "      <td>0.016047</td>\n",
              "      <td>249.8092</td>\n",
              "      <td>49</td>\n",
              "      <td>14</td>\n",
              "      <td>0</td>\n",
              "      <td>0</td>\n",
              "      <td>0</td>\n",
              "      <td>0</td>\n",
              "      <td>0</td>\n",
              "      <td>1</td>\n",
              "      <td>0</td>\n",
              "      <td>0</td>\n",
              "      <td>0</td>\n",
              "      <td>0</td>\n",
              "      <td>0</td>\n",
              "      <td>0</td>\n",
              "      <td>0</td>\n",
              "      <td>0</td>\n",
              "      <td>0</td>\n",
              "      <td>0</td>\n",
              "      <td>0</td>\n",
              "      <td>0</td>\n",
              "      <td>1</td>\n",
              "      <td>0</td>\n",
              "      <td>0</td>\n",
              "      <td>0</td>\n",
              "      <td>1</td>\n",
              "      <td>0</td>\n",
              "      <td>1</td>\n",
              "      <td>0</td>\n",
              "      <td>0</td>\n",
              "    </tr>\n",
              "    <tr>\n",
              "      <th>1</th>\n",
              "      <td>8</td>\n",
              "      <td>5.92</td>\n",
              "      <td>1</td>\n",
              "      <td>0.019278</td>\n",
              "      <td>48.2692</td>\n",
              "      <td>18</td>\n",
              "      <td>4</td>\n",
              "      <td>0</td>\n",
              "      <td>0</td>\n",
              "      <td>0</td>\n",
              "      <td>0</td>\n",
              "      <td>0</td>\n",
              "      <td>0</td>\n",
              "      <td>0</td>\n",
              "      <td>0</td>\n",
              "      <td>0</td>\n",
              "      <td>0</td>\n",
              "      <td>0</td>\n",
              "      <td>0</td>\n",
              "      <td>0</td>\n",
              "      <td>0</td>\n",
              "      <td>0</td>\n",
              "      <td>1</td>\n",
              "      <td>0</td>\n",
              "      <td>0</td>\n",
              "      <td>0</td>\n",
              "      <td>1</td>\n",
              "      <td>0</td>\n",
              "      <td>0</td>\n",
              "      <td>1</td>\n",
              "      <td>0</td>\n",
              "      <td>0</td>\n",
              "      <td>0</td>\n",
              "      <td>1</td>\n",
              "    </tr>\n",
              "    <tr>\n",
              "      <th>2</th>\n",
              "      <td>662</td>\n",
              "      <td>17.50</td>\n",
              "      <td>0</td>\n",
              "      <td>0.016760</td>\n",
              "      <td>141.6180</td>\n",
              "      <td>49</td>\n",
              "      <td>14</td>\n",
              "      <td>0</td>\n",
              "      <td>0</td>\n",
              "      <td>0</td>\n",
              "      <td>0</td>\n",
              "      <td>0</td>\n",
              "      <td>0</td>\n",
              "      <td>0</td>\n",
              "      <td>0</td>\n",
              "      <td>0</td>\n",
              "      <td>0</td>\n",
              "      <td>0</td>\n",
              "      <td>1</td>\n",
              "      <td>0</td>\n",
              "      <td>0</td>\n",
              "      <td>0</td>\n",
              "      <td>0</td>\n",
              "      <td>0</td>\n",
              "      <td>0</td>\n",
              "      <td>1</td>\n",
              "      <td>0</td>\n",
              "      <td>0</td>\n",
              "      <td>0</td>\n",
              "      <td>1</td>\n",
              "      <td>0</td>\n",
              "      <td>1</td>\n",
              "      <td>0</td>\n",
              "      <td>0</td>\n",
              "    </tr>\n",
              "    <tr>\n",
              "      <th>3</th>\n",
              "      <td>1121</td>\n",
              "      <td>19.20</td>\n",
              "      <td>1</td>\n",
              "      <td>0.000000</td>\n",
              "      <td>182.0950</td>\n",
              "      <td>10</td>\n",
              "      <td>15</td>\n",
              "      <td>1</td>\n",
              "      <td>0</td>\n",
              "      <td>0</td>\n",
              "      <td>0</td>\n",
              "      <td>0</td>\n",
              "      <td>0</td>\n",
              "      <td>0</td>\n",
              "      <td>1</td>\n",
              "      <td>0</td>\n",
              "      <td>0</td>\n",
              "      <td>0</td>\n",
              "      <td>0</td>\n",
              "      <td>0</td>\n",
              "      <td>0</td>\n",
              "      <td>0</td>\n",
              "      <td>0</td>\n",
              "      <td>0</td>\n",
              "      <td>1</td>\n",
              "      <td>0</td>\n",
              "      <td>0</td>\n",
              "      <td>0</td>\n",
              "      <td>0</td>\n",
              "      <td>1</td>\n",
              "      <td>0</td>\n",
              "      <td>0</td>\n",
              "      <td>0</td>\n",
              "      <td>1</td>\n",
              "    </tr>\n",
              "    <tr>\n",
              "      <th>4</th>\n",
              "      <td>1297</td>\n",
              "      <td>8.93</td>\n",
              "      <td>0</td>\n",
              "      <td>0.000000</td>\n",
              "      <td>53.8614</td>\n",
              "      <td>13</td>\n",
              "      <td>26</td>\n",
              "      <td>1</td>\n",
              "      <td>0</td>\n",
              "      <td>0</td>\n",
              "      <td>0</td>\n",
              "      <td>0</td>\n",
              "      <td>0</td>\n",
              "      <td>0</td>\n",
              "      <td>0</td>\n",
              "      <td>0</td>\n",
              "      <td>0</td>\n",
              "      <td>1</td>\n",
              "      <td>0</td>\n",
              "      <td>0</td>\n",
              "      <td>0</td>\n",
              "      <td>0</td>\n",
              "      <td>0</td>\n",
              "      <td>0</td>\n",
              "      <td>0</td>\n",
              "      <td>1</td>\n",
              "      <td>0</td>\n",
              "      <td>0</td>\n",
              "      <td>0</td>\n",
              "      <td>0</td>\n",
              "      <td>1</td>\n",
              "      <td>0</td>\n",
              "      <td>0</td>\n",
              "      <td>1</td>\n",
              "    </tr>\n",
              "  </tbody>\n",
              "</table>\n",
              "</div>"
            ],
            "text/plain": [
              "   Item_Identifier  Item_Weight  Item_Fat_Content  Item_Visibility  Item_MRP  Outlet_Identifier  Outlet_Age  zero_visibility  Item_Type_0  Item_Type_1  Item_Type_2  Item_Type_3  Item_Type_4  Item_Type_5  Item_Type_6  Item_Type_7  Item_Type_8  Item_Type_9  Item_Type_10  Item_Type_11  Item_Type_12  Item_Type_13  Item_Type_14  Item_Type_15  Outlet_Type_0  Outlet_Type_1  Outlet_Type_2  Outlet_Type_3  Outlet_Size_0  Outlet_Size_1  Outlet_Size_2  Outlet_Location_Type_0  Outlet_Location_Type_1  Outlet_Location_Type_2\n",
              "0              156         9.30                 0         0.016047  249.8092                 49          14                0            0            0            0            0            1            0            0            0            0            0             0             0             0             0             0             0              0              1              0              0              0              1              0                       1                       0                       0\n",
              "1                8         5.92                 1         0.019278   48.2692                 18           4                0            0            0            0            0            0            0            0            0            0            0             0             0             0             0             1             0              0              0              1              0              0              1              0                       0                       0                       1\n",
              "2              662        17.50                 0         0.016760  141.6180                 49          14                0            0            0            0            0            0            0            0            0            0            0             1             0             0             0             0             0              0              1              0              0              0              1              0                       1                       0                       0\n",
              "3             1121        19.20                 1         0.000000  182.0950                 10          15                1            0            0            0            0            0            0            1            0            0            0             0             0             0             0             0             0              1              0              0              0              0              1              0                       0                       0                       1\n",
              "4             1297         8.93                 0         0.000000   53.8614                 13          26                1            0            0            0            0            0            0            0            0            0            1             0             0             0             0             0             0              0              1              0              0              0              0              1                       0                       0                       1"
            ]
          },
          "metadata": {
            "tags": []
          },
          "execution_count": 81
        }
      ]
    },
    {
      "cell_type": "code",
      "metadata": {
        "id": "MDioXGk9W486"
      },
      "source": [
        "test_xgb = pd.get_dummies(test, columns=['Item_Type', 'Outlet_Type', 'Outlet_Size', 'Outlet_Location_Type'])"
      ],
      "execution_count": null,
      "outputs": []
    },
    {
      "cell_type": "code",
      "metadata": {
        "id": "4eA61gTXTRjq"
      },
      "source": [
        "X_train, X_val, y_train, y_val = train_test_split(X_xgb,y_xgb,test_size=0.4,random_state=69,stratify=train.Outlet_Identifier,shuffle=True)"
      ],
      "execution_count": null,
      "outputs": []
    },
    {
      "cell_type": "markdown",
      "metadata": {
        "id": "ad9FIlQHciRY"
      },
      "source": [
        "#####Building model"
      ]
    },
    {
      "cell_type": "markdown",
      "metadata": {
        "id": "3P2ompIbk86k"
      },
      "source": [
        "######Parameter Optimization"
      ]
    },
    {
      "cell_type": "code",
      "metadata": {
        "id": "LHGPlP7OlKwX"
      },
      "source": [
        "XGB_parameters = {\n",
        "    'max_depth': [3,4,5],\n",
        "    'learning_rate':[0.1,0.01,0.05],\n",
        "    'gamma': [0,0.5,1],\n",
        "    'reg_lambda':[0,1,10]\n",
        "}"
      ],
      "execution_count": null,
      "outputs": []
    },
    {
      "cell_type": "code",
      "metadata": {
        "id": "U6ByXJNNnxuR"
      },
      "source": [
        "XGB_parameters_1 = {\n",
        "    'max_depth': [3],\n",
        "    'learning_rate':[0.04,0.05,0.06],\n",
        "    'gamma': [0,0.1,0.2],\n",
        "    'reg_lambda':[9,10,11]\n",
        "}"
      ],
      "execution_count": null,
      "outputs": []
    },
    {
      "cell_type": "code",
      "metadata": {
        "id": "EQt_gZgVpGxr"
      },
      "source": [
        "XGB_parameters_2 = {\n",
        "    'max_depth': [3],\n",
        "    'learning_rate':[0.05],\n",
        "    'gamma': [0],\n",
        "    'reg_lambda':[7,8,9]\n",
        "}"
      ],
      "execution_count": null,
      "outputs": []
    },
    {
      "cell_type": "code",
      "metadata": {
        "id": "uoPQ8xn_ummt"
      },
      "source": [
        "def optimization_pipeline(X_train, y_train, test, model, parameters, scoring, cv):\n",
        "   clf = GridSearchCV(estimator=model, param_grid=parameters, scoring=scoring, n_jobs=-1,cv=cv, verbose=3)\n",
        "   model = clf.fit(X_train, y_train)\n",
        "   return model#, model.predict(test)"
      ],
      "execution_count": null,
      "outputs": []
    },
    {
      "cell_type": "code",
      "metadata": {
        "id": "nUTzMoOYoC1u"
      },
      "source": [
        "xgb_model = xgb.XGBRegressor(random_state=100)"
      ],
      "execution_count": null,
      "outputs": []
    },
    {
      "cell_type": "code",
      "metadata": {
        "id": "-hAXMFjRtwB6"
      },
      "source": [
        "cv = StratifiedKFold(3, shuffle=True, random_state=53)"
      ],
      "execution_count": null,
      "outputs": []
    },
    {
      "cell_type": "code",
      "metadata": {
        "id": "wNDTMMMoL-AI",
        "colab": {
          "base_uri": "https://localhost:8080/"
        },
        "outputId": "5612f4ec-1ee4-4117-a31b-70b96744b549"
      },
      "source": [
        "clf = optimization_pipeline(X_train_selected_features, y_train, X_val_selected_features, xgb_model, XGB_parameters_2, 'neg_root_mean_squared_error', 10)"
      ],
      "execution_count": null,
      "outputs": [
        {
          "output_type": "stream",
          "text": [
            "Fitting 10 folds for each of 3 candidates, totalling 30 fits\n"
          ],
          "name": "stdout"
        },
        {
          "output_type": "stream",
          "text": [
            "[Parallel(n_jobs=-1)]: Using backend LokyBackend with 2 concurrent workers.\n",
            "[Parallel(n_jobs=-1)]: Done  30 out of  30 | elapsed:    6.1s finished\n"
          ],
          "name": "stderr"
        },
        {
          "output_type": "stream",
          "text": [
            "[08:37:12] WARNING: /workspace/src/objective/regression_obj.cu:152: reg:linear is now deprecated in favor of reg:squarederror.\n"
          ],
          "name": "stdout"
        }
      ]
    },
    {
      "cell_type": "code",
      "metadata": {
        "colab": {
          "base_uri": "https://localhost:8080/"
        },
        "id": "98gxf9bw0n37",
        "outputId": "b6d34a76-e21c-4154-9ac4-955a5727705a"
      },
      "source": [
        "clf.best_params_"
      ],
      "execution_count": null,
      "outputs": [
        {
          "output_type": "execute_result",
          "data": {
            "text/plain": [
              "{'gamma': 0, 'learning_rate': 0.05, 'max_depth': 3, 'reg_lambda': 10}"
            ]
          },
          "metadata": {
            "tags": []
          },
          "execution_count": 115
        }
      ]
    },
    {
      "cell_type": "code",
      "metadata": {
        "colab": {
          "base_uri": "https://localhost:8080/"
        },
        "id": "2u5rGm_9oc4K",
        "outputId": "6fc26779-cc63-45fc-ecf6-152405005ff7"
      },
      "source": [
        "clf.best_params_"
      ],
      "execution_count": null,
      "outputs": [
        {
          "output_type": "execute_result",
          "data": {
            "text/plain": [
              "{'gamma': 0, 'learning_rate': 0.05, 'max_depth': 3, 'reg_lambda': 9}"
            ]
          },
          "metadata": {
            "tags": []
          },
          "execution_count": 119
        }
      ]
    },
    {
      "cell_type": "code",
      "metadata": {
        "colab": {
          "base_uri": "https://localhost:8080/"
        },
        "id": "DQBzEwrCpefn",
        "outputId": "8935a485-cf2d-4311-c270-f672896750a5"
      },
      "source": [
        "clf.best_params_"
      ],
      "execution_count": null,
      "outputs": [
        {
          "output_type": "execute_result",
          "data": {
            "text/plain": [
              "{'gamma': 0, 'learning_rate': 0.05, 'max_depth': 3, 'reg_lambda': 9}"
            ]
          },
          "metadata": {
            "tags": []
          },
          "execution_count": 126
        }
      ]
    },
    {
      "cell_type": "code",
      "metadata": {
        "colab": {
          "base_uri": "https://localhost:8080/"
        },
        "id": "QuNKy44tEOX4",
        "outputId": "d69dfe23-2903-4f43-b1f9-a8fdb728952a"
      },
      "source": [
        "clf.best_estimator_"
      ],
      "execution_count": null,
      "outputs": [
        {
          "output_type": "execute_result",
          "data": {
            "text/plain": [
              "XGBRegressor(base_score=0.5, booster='gbtree', colsample_bylevel=1,\n",
              "             colsample_bynode=1, colsample_bytree=1, gamma=0,\n",
              "             importance_type='gain', learning_rate=0.05, max_delta_step=0,\n",
              "             max_depth=3, min_child_weight=1, missing=None, n_estimators=100,\n",
              "             n_jobs=1, nthread=None, objective='reg:linear', random_state=100,\n",
              "             reg_alpha=0, reg_lambda=10, scale_pos_weight=1, seed=None,\n",
              "             silent=None, subsample=1, verbosity=1)"
            ]
          },
          "metadata": {
            "tags": []
          },
          "execution_count": 42
        }
      ]
    },
    {
      "cell_type": "code",
      "metadata": {
        "colab": {
          "base_uri": "https://localhost:8080/"
        },
        "id": "X6jGp0Js-mMN",
        "outputId": "fdf24b2b-cd6c-44cc-9e6f-a6ea90fc7a63"
      },
      "source": [
        "clf.best_score_"
      ],
      "execution_count": null,
      "outputs": [
        {
          "output_type": "execute_result",
          "data": {
            "text/plain": [
              "-1087.4523425468644"
            ]
          },
          "metadata": {
            "tags": []
          },
          "execution_count": 32
        }
      ]
    },
    {
      "cell_type": "code",
      "metadata": {
        "colab": {
          "base_uri": "https://localhost:8080/"
        },
        "id": "rrHYxqemotUy",
        "outputId": "462280b7-82d0-4ff0-949c-f1574b760f18"
      },
      "source": [
        "clf.best_score_"
      ],
      "execution_count": null,
      "outputs": [
        {
          "output_type": "execute_result",
          "data": {
            "text/plain": [
              "-1085.3752433978036"
            ]
          },
          "metadata": {
            "tags": []
          },
          "execution_count": 72
        }
      ]
    },
    {
      "cell_type": "code",
      "metadata": {
        "colab": {
          "base_uri": "https://localhost:8080/"
        },
        "id": "4SiT3Hm-ppB5",
        "outputId": "ffa9550f-6259-4b66-ec84-84443e7b78f5"
      },
      "source": [
        "clf.best_score_"
      ],
      "execution_count": null,
      "outputs": [
        {
          "output_type": "execute_result",
          "data": {
            "text/plain": [
              "-1084.1116901534556"
            ]
          },
          "metadata": {
            "tags": []
          },
          "execution_count": 51
        }
      ]
    },
    {
      "cell_type": "code",
      "metadata": {
        "id": "rSVhnraFjtIL"
      },
      "source": [
        " m = clf.predict(X_val)"
      ],
      "execution_count": null,
      "outputs": []
    },
    {
      "cell_type": "code",
      "metadata": {
        "id": "pswIlcxoGZOK",
        "colab": {
          "base_uri": "https://localhost:8080/"
        },
        "outputId": "1548f842-a5ce-4b06-e010-575ea1a6952d"
      },
      "source": [
        "xgboost = xgb.XGBRegressor(random_state=35,learning_rate=0.05,reg_lambda=9,)\n",
        "xgboost.fit(X_train,y_train, eval_set=[(X_val, y_val)], eval_metric='rmse', early_stopping_rounds=10, verbose=3)"
      ],
      "execution_count": null,
      "outputs": [
        {
          "output_type": "stream",
          "text": [
            "[10:55:15] WARNING: /workspace/src/objective/regression_obj.cu:152: reg:linear is now deprecated in favor of reg:squarederror.\n",
            "[0]\tvalidation_0-rmse:2652.63\n",
            "Will train until validation_0-rmse hasn't improved in 10 rounds.\n",
            "[3]\tvalidation_0-rmse:2356.03\n",
            "[6]\tvalidation_0-rmse:2107.49\n",
            "[9]\tvalidation_0-rmse:1902.65\n",
            "[12]\tvalidation_0-rmse:1734.27\n",
            "[15]\tvalidation_0-rmse:1596.53\n",
            "[18]\tvalidation_0-rmse:1485.35\n",
            "[21]\tvalidation_0-rmse:1395.5\n",
            "[24]\tvalidation_0-rmse:1324.4\n",
            "[27]\tvalidation_0-rmse:1268.24\n",
            "[30]\tvalidation_0-rmse:1223.11\n",
            "[33]\tvalidation_0-rmse:1188.14\n",
            "[36]\tvalidation_0-rmse:1160.68\n",
            "[39]\tvalidation_0-rmse:1138.73\n",
            "[42]\tvalidation_0-rmse:1123.03\n",
            "[45]\tvalidation_0-rmse:1110.85\n",
            "[48]\tvalidation_0-rmse:1101.26\n",
            "[51]\tvalidation_0-rmse:1094\n",
            "[54]\tvalidation_0-rmse:1088.68\n",
            "[57]\tvalidation_0-rmse:1084.16\n",
            "[60]\tvalidation_0-rmse:1081.13\n",
            "[63]\tvalidation_0-rmse:1079.31\n",
            "[66]\tvalidation_0-rmse:1077.74\n",
            "[69]\tvalidation_0-rmse:1076.89\n",
            "[72]\tvalidation_0-rmse:1075.76\n",
            "[75]\tvalidation_0-rmse:1075.15\n",
            "[78]\tvalidation_0-rmse:1074.64\n",
            "[81]\tvalidation_0-rmse:1074.16\n",
            "[84]\tvalidation_0-rmse:1073.93\n",
            "[87]\tvalidation_0-rmse:1073.89\n",
            "[90]\tvalidation_0-rmse:1074.03\n",
            "[93]\tvalidation_0-rmse:1074.1\n",
            "[96]\tvalidation_0-rmse:1074.06\n",
            "Stopping. Best iteration:\n",
            "[86]\tvalidation_0-rmse:1073.86\n",
            "\n"
          ],
          "name": "stdout"
        },
        {
          "output_type": "execute_result",
          "data": {
            "text/plain": [
              "XGBRegressor(base_score=0.5, booster='gbtree', colsample_bylevel=1,\n",
              "             colsample_bynode=1, colsample_bytree=1, gamma=0,\n",
              "             importance_type='gain', learning_rate=0.05, max_delta_step=0,\n",
              "             max_depth=3, min_child_weight=1, missing=None, n_estimators=100,\n",
              "             n_jobs=1, nthread=None, objective='reg:linear', random_state=35,\n",
              "             reg_alpha=0, reg_lambda=9, scale_pos_weight=1, seed=None,\n",
              "             silent=None, subsample=1, verbosity=1)"
            ]
          },
          "metadata": {
            "tags": []
          },
          "execution_count": 109
        }
      ]
    },
    {
      "cell_type": "code",
      "metadata": {
        "id": "iGL52wtNLRpC"
      },
      "source": [
        "xgb_predictions = xgboost.predict(test_xgb)"
      ],
      "execution_count": null,
      "outputs": []
    },
    {
      "cell_type": "code",
      "metadata": {
        "colab": {
          "base_uri": "https://localhost:8080/"
        },
        "id": "4O0p2GsOmEea",
        "outputId": "24a6f752-92cc-4489-9fd9-b5a519d1af3d"
      },
      "source": [
        "mean_squared_error(y_val, predictions, squared=False)"
      ],
      "execution_count": null,
      "outputs": [
        {
          "output_type": "execute_result",
          "data": {
            "text/plain": [
              "1073.601220229694"
            ]
          },
          "metadata": {
            "tags": []
          },
          "execution_count": 34
        }
      ]
    },
    {
      "cell_type": "code",
      "metadata": {
        "colab": {
          "base_uri": "https://localhost:8080/"
        },
        "id": "rEiFGkaFoyQc",
        "outputId": "916d4f90-74b2-4885-bfd4-90a933eb5473"
      },
      "source": [
        "mean_squared_error(y_val, predictions, squared=False)"
      ],
      "execution_count": null,
      "outputs": [
        {
          "output_type": "execute_result",
          "data": {
            "text/plain": [
              "1074.3292893011774"
            ]
          },
          "metadata": {
            "tags": []
          },
          "execution_count": 79
        }
      ]
    },
    {
      "cell_type": "code",
      "metadata": {
        "colab": {
          "base_uri": "https://localhost:8080/"
        },
        "id": "KoJALB8epunK",
        "outputId": "8a86d2f3-89b8-4e8d-81e5-137756200a81"
      },
      "source": [
        "mean_squared_error(y_val, predictions, squared=False)"
      ],
      "execution_count": null,
      "outputs": [
        {
          "output_type": "execute_result",
          "data": {
            "text/plain": [
              "1074.3292893011774"
            ]
          },
          "metadata": {
            "tags": []
          },
          "execution_count": 80
        }
      ]
    },
    {
      "cell_type": "code",
      "metadata": {
        "id": "Wq4SWeqnyk1g"
      },
      "source": [
        "X_train_nonzero_features = X_train.drop(labels=['Item_Type_0','Item_Type_2','Item_Type_3','Item_Type_5','Item_Type_7','Item_Type_8',\n",
        "                     'Item_Type_10','Item_Type_11','Item_Type_12','Item_Type_14','Item_Type_15','Outlet_Type_2','Outlet_Size_0',\n",
        "                     'Outlet_Size_1','Outlet_Size_2','Outlet_Location_Type_2'], axis=1)"
      ],
      "execution_count": null,
      "outputs": []
    },
    {
      "cell_type": "code",
      "metadata": {
        "id": "FG_jP5eV0mOi"
      },
      "source": [
        "X_val_nonzero_features = X_val.drop(labels=['Item_Type_0','Item_Type_2','Item_Type_3','Item_Type_5','Item_Type_7','Item_Type_8',\n",
        "                     'Item_Type_10','Item_Type_11','Item_Type_12','Item_Type_14','Item_Type_15','Outlet_Type_2','Outlet_Size_0',\n",
        "                     'Outlet_Size_1','Outlet_Size_2','Outlet_Location_Type_2'], axis=1)"
      ],
      "execution_count": null,
      "outputs": []
    },
    {
      "cell_type": "code",
      "metadata": {
        "id": "0TOeeGk43Al9"
      },
      "source": [
        "class XGB(xgb.XGBRegressor):\n",
        "\t@property\n",
        "\tdef coef_(self):\n",
        "\t\treturn None"
      ],
      "execution_count": null,
      "outputs": []
    },
    {
      "cell_type": "code",
      "metadata": {
        "colab": {
          "base_uri": "https://localhost:8080/"
        },
        "id": "u2ljWr6o3-a7",
        "outputId": "3ebfcf77-367b-4d92-ef3f-478afe1a9cb4"
      },
      "source": [
        "model = XGB()\n",
        "model.fit(X_train,y_train)"
      ],
      "execution_count": null,
      "outputs": [
        {
          "output_type": "stream",
          "text": [
            "[07:39:35] WARNING: /workspace/src/objective/regression_obj.cu:152: reg:linear is now deprecated in favor of reg:squarederror.\n"
          ],
          "name": "stdout"
        },
        {
          "output_type": "execute_result",
          "data": {
            "text/plain": [
              "XGB(base_score=0.5, booster='gbtree', colsample_bylevel=1, colsample_bynode=1,\n",
              "    colsample_bytree=1, gamma=0, importance_type='gain', learning_rate=0.1,\n",
              "    max_delta_step=0, max_depth=3, min_child_weight=1, missing=None,\n",
              "    n_estimators=100, n_jobs=1, nthread=None, objective='reg:linear',\n",
              "    random_state=0, reg_alpha=0, reg_lambda=1, scale_pos_weight=1, seed=None,\n",
              "    silent=None, subsample=1, verbosity=1)"
            ]
          },
          "metadata": {
            "tags": []
          },
          "execution_count": 62
        }
      ]
    },
    {
      "cell_type": "code",
      "metadata": {
        "colab": {
          "base_uri": "https://localhost:8080/"
        },
        "id": "vrjim9iO0gpH",
        "outputId": "e99fe8ef-870f-4226-baa0-d7f0bf881e39"
      },
      "source": [
        "model = xgb.XGBRegressor(random_state=35)\n",
        "model.fit(X_train,y_train, eval_set=[(X_val, y_val)], eval_metric='rmse', early_stopping_rounds=10, verbose=3)"
      ],
      "execution_count": null,
      "outputs": [
        {
          "output_type": "stream",
          "text": [
            "[08:22:03] WARNING: /workspace/src/objective/regression_obj.cu:152: reg:linear is now deprecated in favor of reg:squarederror.\n",
            "[0]\tvalidation_0-rmse:2540.12\n",
            "Will train until validation_0-rmse hasn't improved in 10 rounds.\n",
            "[3]\tvalidation_0-rmse:2012.21\n",
            "[6]\tvalidation_0-rmse:1658.8\n",
            "[9]\tvalidation_0-rmse:1427.2\n",
            "[12]\tvalidation_0-rmse:1282.72\n",
            "[15]\tvalidation_0-rmse:1195.57\n",
            "[18]\tvalidation_0-rmse:1143.81\n",
            "[21]\tvalidation_0-rmse:1113.28\n",
            "[24]\tvalidation_0-rmse:1095.88\n",
            "[27]\tvalidation_0-rmse:1087.07\n",
            "[30]\tvalidation_0-rmse:1081.91\n",
            "[33]\tvalidation_0-rmse:1079.62\n",
            "[36]\tvalidation_0-rmse:1078.23\n",
            "[39]\tvalidation_0-rmse:1075.79\n",
            "[42]\tvalidation_0-rmse:1075.69\n",
            "[45]\tvalidation_0-rmse:1075.32\n",
            "[48]\tvalidation_0-rmse:1075.42\n",
            "[51]\tvalidation_0-rmse:1075.62\n",
            "[54]\tvalidation_0-rmse:1076.34\n",
            "[57]\tvalidation_0-rmse:1076.54\n",
            "Stopping. Best iteration:\n",
            "[47]\tvalidation_0-rmse:1075.12\n",
            "\n"
          ],
          "name": "stdout"
        },
        {
          "output_type": "execute_result",
          "data": {
            "text/plain": [
              "XGBRegressor(base_score=0.5, booster='gbtree', colsample_bylevel=1,\n",
              "             colsample_bynode=1, colsample_bytree=1, gamma=0,\n",
              "             importance_type='gain', learning_rate=0.1, max_delta_step=0,\n",
              "             max_depth=3, min_child_weight=1, missing=None, n_estimators=100,\n",
              "             n_jobs=1, nthread=None, objective='reg:linear', random_state=35,\n",
              "             reg_alpha=0, reg_lambda=1, scale_pos_weight=1, seed=None,\n",
              "             silent=None, subsample=1, verbosity=1)"
            ]
          },
          "metadata": {
            "tags": []
          },
          "execution_count": 105
        }
      ]
    },
    {
      "cell_type": "code",
      "metadata": {
        "id": "2DzFp4_64QeK"
      },
      "source": [
        "predictions = model.predict(X_val_selected_features)"
      ],
      "execution_count": null,
      "outputs": []
    },
    {
      "cell_type": "code",
      "metadata": {
        "colab": {
          "base_uri": "https://localhost:8080/"
        },
        "id": "_8RuF-1V4h8h",
        "outputId": "8229f679-703a-4e6e-8906-f047387982e6"
      },
      "source": [
        "mean_squared_error(y_val,predictions, squared=False)"
      ],
      "execution_count": null,
      "outputs": [
        {
          "output_type": "execute_result",
          "data": {
            "text/plain": [
              "1067.3768021253923"
            ]
          },
          "metadata": {
            "tags": []
          },
          "execution_count": 103
        }
      ]
    },
    {
      "cell_type": "code",
      "metadata": {
        "id": "U0LymTr_npVG"
      },
      "source": [
        "def SelectFromModel(feature_importance, column_names, threshold=None):\n",
        "  if threshold==None:\n",
        "    return column_names\n",
        "  else:\n",
        "    selected_feature_indices =  np.where(model.feature_importances_ >= threshold)[0]\n",
        "    selected_features = column_names[[selected_feature_indices]]\n",
        "    return selected_features\n"
      ],
      "execution_count": null,
      "outputs": []
    },
    {
      "cell_type": "code",
      "metadata": {
        "id": "XNwetqdO9a-n",
        "colab": {
          "base_uri": "https://localhost:8080/",
          "height": 1000
        },
        "outputId": "a16edffa-f5d5-4f39-833c-3606b51887b3"
      },
      "source": [
        "thresholds = model.feature_importances_\n",
        "selected_thresholds = []\n",
        "best_scores_dict = {}\n",
        "threshold_count = []\n",
        "best_scores = []\n",
        "for threshold in thresholds:\n",
        "  if threshold not in selected_thresholds:\n",
        "    print('threshold %f' % threshold)\n",
        "    selected_thresholds.append(threshold)\n",
        "    select_X_train = SelectFromModel(model.feature_importances_, X_train.columns.to_numpy(), threshold)\n",
        "    print(select_X_train)\n",
        "    print(len(select_X_train))\n",
        "    xgb_model = xgb.XGBRegressor(random_state=353,learning_rate=0.05,reg_lambda=9)\n",
        "    xgb_model.fit(X_train[select_X_train],y_train, eval_set=[(X_val[select_X_train], y_val)], eval_metric='rmse', early_stopping_rounds=10, verbose=20)\n",
        "    if(xgb_model.best_score<=1100):\n",
        "      threshold_count.append(len(select_X_train))\n",
        "      best_scores.append(xgb_model.best_score)\n",
        "    del xgb_model\n",
        "    del select_X_train\n",
        "    print('==============================================================')\n",
        "\n",
        "plt.figure(figsize=(15,8))\n",
        "sns.scatterplot(x=threshold_count, y=best_scores)"
      ],
      "execution_count": null,
      "outputs": [
        {
          "output_type": "stream",
          "text": [
            "threshold 0.008296\n",
            "['Item_Identifier' 'Item_Weight' 'Item_Visibility' 'Item_MRP' 'Outlet_Age'\n",
            " 'Item_Type_2' 'Item_Type_4' 'Item_Type_6' 'Item_Type_13' 'Outlet_Type_0'\n",
            " 'Outlet_Type_1' 'Outlet_Type_3' 'Outlet_Size_0' 'Outlet_Location_Type_1']\n",
            "14\n",
            "[08:22:25] WARNING: /workspace/src/objective/regression_obj.cu:152: reg:linear is now deprecated in favor of reg:squarederror.\n",
            "[0]\tvalidation_0-rmse:2652.63\n",
            "Will train until validation_0-rmse hasn't improved in 10 rounds.\n",
            "[20]\tvalidation_0-rmse:1422.97\n"
          ],
          "name": "stdout"
        },
        {
          "output_type": "stream",
          "text": [
            "/usr/local/lib/python3.7/dist-packages/ipykernel_launcher.py:6: FutureWarning: Using a non-tuple sequence for multidimensional indexing is deprecated; use `arr[tuple(seq)]` instead of `arr[seq]`. In the future this will be interpreted as an array index, `arr[np.array(seq)]`, which will result either in an error or a different result.\n",
            "  \n"
          ],
          "name": "stderr"
        },
        {
          "output_type": "stream",
          "text": [
            "[40]\tvalidation_0-rmse:1134.39\n",
            "[60]\tvalidation_0-rmse:1081.68\n",
            "[80]\tvalidation_0-rmse:1074.37\n",
            "[99]\tvalidation_0-rmse:1074.09\n",
            "==============================================================\n",
            "threshold 0.011112\n",
            "['Item_Weight' 'Item_Visibility' 'Item_MRP' 'Outlet_Age' 'Item_Type_2'\n",
            " 'Item_Type_4' 'Item_Type_6' 'Outlet_Type_0' 'Outlet_Type_1'\n",
            " 'Outlet_Type_3' 'Outlet_Size_0' 'Outlet_Location_Type_1']\n",
            "12\n",
            "[08:22:26] WARNING: /workspace/src/objective/regression_obj.cu:152: reg:linear is now deprecated in favor of reg:squarederror.\n",
            "[0]\tvalidation_0-rmse:2652.63\n",
            "Will train until validation_0-rmse hasn't improved in 10 rounds.\n",
            "[20]\tvalidation_0-rmse:1422.97\n",
            "[40]\tvalidation_0-rmse:1134.02\n",
            "[60]\tvalidation_0-rmse:1081.79\n",
            "[80]\tvalidation_0-rmse:1074.54\n",
            "[99]\tvalidation_0-rmse:1073.57\n",
            "==============================================================\n",
            "threshold 0.003259\n",
            "['Item_Identifier' 'Item_Weight' 'Item_Fat_Content' 'Item_Visibility'\n",
            " 'Item_MRP' 'Outlet_Identifier' 'Outlet_Age' 'Item_Type_2' 'Item_Type_4'\n",
            " 'Item_Type_6' 'Item_Type_13' 'Outlet_Type_0' 'Outlet_Type_1'\n",
            " 'Outlet_Type_3' 'Outlet_Size_0' 'Outlet_Location_Type_1']\n",
            "16\n",
            "[08:22:26] WARNING: /workspace/src/objective/regression_obj.cu:152: reg:linear is now deprecated in favor of reg:squarederror.\n",
            "[0]\tvalidation_0-rmse:2652.63\n",
            "Will train until validation_0-rmse hasn't improved in 10 rounds.\n",
            "[20]\tvalidation_0-rmse:1422.97\n",
            "[40]\tvalidation_0-rmse:1134.39\n",
            "[60]\tvalidation_0-rmse:1081.68\n",
            "[80]\tvalidation_0-rmse:1074.5\n",
            "Stopping. Best iteration:\n",
            "[86]\tvalidation_0-rmse:1073.99\n",
            "\n",
            "==============================================================\n",
            "threshold 0.013146\n",
            "['Item_Visibility' 'Item_MRP' 'Outlet_Age' 'Item_Type_2' 'Outlet_Type_0'\n",
            " 'Outlet_Type_1' 'Outlet_Type_3' 'Outlet_Size_0' 'Outlet_Location_Type_1']\n",
            "9\n",
            "[08:22:27] WARNING: /workspace/src/objective/regression_obj.cu:152: reg:linear is now deprecated in favor of reg:squarederror.\n",
            "[0]\tvalidation_0-rmse:2652.63\n",
            "Will train until validation_0-rmse hasn't improved in 10 rounds.\n",
            "[20]\tvalidation_0-rmse:1422.99\n",
            "[40]\tvalidation_0-rmse:1134.59\n",
            "[60]\tvalidation_0-rmse:1082.6\n",
            "[80]\tvalidation_0-rmse:1074.76\n",
            "[99]\tvalidation_0-rmse:1074.33\n",
            "==============================================================\n",
            "threshold 0.188229\n",
            "['Item_MRP' 'Outlet_Age' 'Outlet_Type_0']\n",
            "3\n",
            "[08:22:27] WARNING: /workspace/src/objective/regression_obj.cu:152: reg:linear is now deprecated in favor of reg:squarederror.\n",
            "[0]\tvalidation_0-rmse:2652.63\n",
            "Will train until validation_0-rmse hasn't improved in 10 rounds.\n",
            "[20]\tvalidation_0-rmse:1427.7\n",
            "[40]\tvalidation_0-rmse:1144.19\n",
            "[60]\tvalidation_0-rmse:1087.36\n",
            "[80]\tvalidation_0-rmse:1074.81\n",
            "[99]\tvalidation_0-rmse:1070.57\n",
            "==============================================================\n",
            "threshold 0.006225\n",
            "['Item_Identifier' 'Item_Weight' 'Item_Visibility' 'Item_MRP'\n",
            " 'Outlet_Identifier' 'Outlet_Age' 'Item_Type_2' 'Item_Type_4'\n",
            " 'Item_Type_6' 'Item_Type_13' 'Outlet_Type_0' 'Outlet_Type_1'\n",
            " 'Outlet_Type_3' 'Outlet_Size_0' 'Outlet_Location_Type_1']\n",
            "15\n",
            "[08:22:28] WARNING: /workspace/src/objective/regression_obj.cu:152: reg:linear is now deprecated in favor of reg:squarederror.\n",
            "[0]\tvalidation_0-rmse:2652.63\n",
            "Will train until validation_0-rmse hasn't improved in 10 rounds.\n",
            "[20]\tvalidation_0-rmse:1422.97\n",
            "[40]\tvalidation_0-rmse:1134.39\n",
            "[60]\tvalidation_0-rmse:1081.68\n",
            "[80]\tvalidation_0-rmse:1074.5\n",
            "Stopping. Best iteration:\n",
            "[86]\tvalidation_0-rmse:1073.93\n",
            "\n",
            "==============================================================\n",
            "threshold 0.200570\n",
            "['Outlet_Age' 'Outlet_Type_0']\n",
            "2\n",
            "[08:22:28] WARNING: /workspace/src/objective/regression_obj.cu:152: reg:linear is now deprecated in favor of reg:squarederror.\n",
            "[0]\tvalidation_0-rmse:2667.31\n",
            "Will train until validation_0-rmse hasn't improved in 10 rounds.\n",
            "[20]\tvalidation_0-rmse:1684.61\n",
            "[40]\tvalidation_0-rmse:1510.25\n",
            "[60]\tvalidation_0-rmse:1486.09\n",
            "[80]\tvalidation_0-rmse:1483.11\n",
            "[99]\tvalidation_0-rmse:1482.62\n",
            "==============================================================\n",
            "threshold 0.000000\n",
            "['Item_Identifier' 'Item_Weight' 'Item_Fat_Content' 'Item_Visibility'\n",
            " 'Item_MRP' 'Outlet_Identifier' 'Outlet_Age' 'zero_visibility'\n",
            " 'Item_Type_0' 'Item_Type_1' 'Item_Type_2' 'Item_Type_3' 'Item_Type_4'\n",
            " 'Item_Type_5' 'Item_Type_6' 'Item_Type_7' 'Item_Type_8' 'Item_Type_9'\n",
            " 'Item_Type_10' 'Item_Type_11' 'Item_Type_12' 'Item_Type_13'\n",
            " 'Item_Type_14' 'Item_Type_15' 'Outlet_Type_0' 'Outlet_Type_1'\n",
            " 'Outlet_Type_2' 'Outlet_Type_3' 'Outlet_Size_0' 'Outlet_Size_1'\n",
            " 'Outlet_Size_2' 'Outlet_Location_Type_0' 'Outlet_Location_Type_1'\n",
            " 'Outlet_Location_Type_2']\n",
            "34\n",
            "[08:22:29] WARNING: /workspace/src/objective/regression_obj.cu:152: reg:linear is now deprecated in favor of reg:squarederror.\n",
            "[0]\tvalidation_0-rmse:2652.63\n",
            "Will train until validation_0-rmse hasn't improved in 10 rounds.\n",
            "[20]\tvalidation_0-rmse:1423.22\n",
            "[40]\tvalidation_0-rmse:1133.17\n",
            "[60]\tvalidation_0-rmse:1081.13\n",
            "[80]\tvalidation_0-rmse:1074.34\n",
            "Stopping. Best iteration:\n",
            "[86]\tvalidation_0-rmse:1073.86\n",
            "\n",
            "==============================================================\n",
            "threshold 0.000150\n",
            "['Item_Identifier' 'Item_Weight' 'Item_Fat_Content' 'Item_Visibility'\n",
            " 'Item_MRP' 'Outlet_Identifier' 'Outlet_Age' 'Item_Type_0' 'Item_Type_2'\n",
            " 'Item_Type_4' 'Item_Type_6' 'Item_Type_10' 'Item_Type_12' 'Item_Type_13'\n",
            " 'Outlet_Type_0' 'Outlet_Type_1' 'Outlet_Type_3' 'Outlet_Size_0'\n",
            " 'Outlet_Size_1' 'Outlet_Location_Type_1']\n",
            "20\n",
            "[08:22:29] WARNING: /workspace/src/objective/regression_obj.cu:152: reg:linear is now deprecated in favor of reg:squarederror.\n",
            "[0]\tvalidation_0-rmse:2652.63\n",
            "Will train until validation_0-rmse hasn't improved in 10 rounds.\n",
            "[20]\tvalidation_0-rmse:1423.22\n",
            "[40]\tvalidation_0-rmse:1133.17\n",
            "[60]\tvalidation_0-rmse:1081.02\n",
            "[80]\tvalidation_0-rmse:1073.98\n",
            "[99]\tvalidation_0-rmse:1073.76\n",
            "Stopping. Best iteration:\n",
            "[89]\tvalidation_0-rmse:1073.53\n",
            "\n",
            "==============================================================\n",
            "threshold 0.016689\n",
            "['Item_MRP' 'Outlet_Age' 'Item_Type_2' 'Outlet_Type_0' 'Outlet_Type_1'\n",
            " 'Outlet_Type_3' 'Outlet_Size_0' 'Outlet_Location_Type_1']\n",
            "8\n",
            "[08:22:30] WARNING: /workspace/src/objective/regression_obj.cu:152: reg:linear is now deprecated in favor of reg:squarederror.\n",
            "[0]\tvalidation_0-rmse:2652.63\n",
            "Will train until validation_0-rmse hasn't improved in 10 rounds.\n",
            "[20]\tvalidation_0-rmse:1422.99\n",
            "[40]\tvalidation_0-rmse:1133.59\n",
            "[60]\tvalidation_0-rmse:1079.01\n",
            "[80]\tvalidation_0-rmse:1069.43\n",
            "[99]\tvalidation_0-rmse:1067.27\n",
            "==============================================================\n",
            "threshold 0.012194\n",
            "['Item_Visibility' 'Item_MRP' 'Outlet_Age' 'Item_Type_2' 'Item_Type_4'\n",
            " 'Outlet_Type_0' 'Outlet_Type_1' 'Outlet_Type_3' 'Outlet_Size_0'\n",
            " 'Outlet_Location_Type_1']\n",
            "10\n",
            "[08:22:31] WARNING: /workspace/src/objective/regression_obj.cu:152: reg:linear is now deprecated in favor of reg:squarederror.\n",
            "[0]\tvalidation_0-rmse:2652.63\n",
            "Will train until validation_0-rmse hasn't improved in 10 rounds.\n",
            "[20]\tvalidation_0-rmse:1422.99\n",
            "[40]\tvalidation_0-rmse:1134.59\n",
            "[60]\tvalidation_0-rmse:1082.15\n",
            "[80]\tvalidation_0-rmse:1074.89\n",
            "[99]\tvalidation_0-rmse:1074.26\n",
            "Stopping. Best iteration:\n",
            "[89]\tvalidation_0-rmse:1073.9\n",
            "\n",
            "==============================================================\n",
            "threshold 0.011343\n",
            "['Item_Visibility' 'Item_MRP' 'Outlet_Age' 'Item_Type_2' 'Item_Type_4'\n",
            " 'Item_Type_6' 'Outlet_Type_0' 'Outlet_Type_1' 'Outlet_Type_3'\n",
            " 'Outlet_Size_0' 'Outlet_Location_Type_1']\n",
            "11\n",
            "[08:22:31] WARNING: /workspace/src/objective/regression_obj.cu:152: reg:linear is now deprecated in favor of reg:squarederror.\n",
            "[0]\tvalidation_0-rmse:2652.63\n",
            "Will train until validation_0-rmse hasn't improved in 10 rounds.\n",
            "[20]\tvalidation_0-rmse:1422.99\n",
            "[40]\tvalidation_0-rmse:1134.58\n",
            "[60]\tvalidation_0-rmse:1082.15\n",
            "[80]\tvalidation_0-rmse:1074.8\n",
            "[99]\tvalidation_0-rmse:1073.73\n",
            "==============================================================\n",
            "threshold 0.001449\n",
            "['Item_Identifier' 'Item_Weight' 'Item_Fat_Content' 'Item_Visibility'\n",
            " 'Item_MRP' 'Outlet_Identifier' 'Outlet_Age' 'Item_Type_2' 'Item_Type_4'\n",
            " 'Item_Type_6' 'Item_Type_10' 'Item_Type_13' 'Outlet_Type_0'\n",
            " 'Outlet_Type_1' 'Outlet_Type_3' 'Outlet_Size_0' 'Outlet_Size_1'\n",
            " 'Outlet_Location_Type_1']\n",
            "18\n",
            "[08:22:32] WARNING: /workspace/src/objective/regression_obj.cu:152: reg:linear is now deprecated in favor of reg:squarederror.\n",
            "[0]\tvalidation_0-rmse:2652.63\n",
            "Will train until validation_0-rmse hasn't improved in 10 rounds.\n",
            "[20]\tvalidation_0-rmse:1422.97\n",
            "[40]\tvalidation_0-rmse:1134.39\n",
            "[60]\tvalidation_0-rmse:1081.68\n",
            "[80]\tvalidation_0-rmse:1074.5\n",
            "Stopping. Best iteration:\n",
            "[86]\tvalidation_0-rmse:1073.99\n",
            "\n",
            "==============================================================\n",
            "threshold 0.000376\n",
            "['Item_Identifier' 'Item_Weight' 'Item_Fat_Content' 'Item_Visibility'\n",
            " 'Item_MRP' 'Outlet_Identifier' 'Outlet_Age' 'Item_Type_2' 'Item_Type_4'\n",
            " 'Item_Type_6' 'Item_Type_10' 'Item_Type_12' 'Item_Type_13'\n",
            " 'Outlet_Type_0' 'Outlet_Type_1' 'Outlet_Type_3' 'Outlet_Size_0'\n",
            " 'Outlet_Size_1' 'Outlet_Location_Type_1']\n",
            "19\n",
            "[08:22:32] WARNING: /workspace/src/objective/regression_obj.cu:152: reg:linear is now deprecated in favor of reg:squarederror.\n",
            "[0]\tvalidation_0-rmse:2652.63\n",
            "Will train until validation_0-rmse hasn't improved in 10 rounds.\n",
            "[20]\tvalidation_0-rmse:1423.22\n",
            "[40]\tvalidation_0-rmse:1133.17\n",
            "[60]\tvalidation_0-rmse:1081.02\n",
            "[80]\tvalidation_0-rmse:1073.98\n",
            "[99]\tvalidation_0-rmse:1073.76\n",
            "Stopping. Best iteration:\n",
            "[89]\tvalidation_0-rmse:1073.53\n",
            "\n",
            "==============================================================\n",
            "threshold 0.010321\n",
            "['Item_Weight' 'Item_Visibility' 'Item_MRP' 'Outlet_Age' 'Item_Type_2'\n",
            " 'Item_Type_4' 'Item_Type_6' 'Item_Type_13' 'Outlet_Type_0'\n",
            " 'Outlet_Type_1' 'Outlet_Type_3' 'Outlet_Size_0' 'Outlet_Location_Type_1']\n",
            "13\n",
            "[08:22:33] WARNING: /workspace/src/objective/regression_obj.cu:152: reg:linear is now deprecated in favor of reg:squarederror.\n",
            "[0]\tvalidation_0-rmse:2652.63\n",
            "Will train until validation_0-rmse hasn't improved in 10 rounds.\n",
            "[20]\tvalidation_0-rmse:1422.97\n",
            "[40]\tvalidation_0-rmse:1134.02\n",
            "[60]\tvalidation_0-rmse:1081.73\n",
            "[80]\tvalidation_0-rmse:1074.55\n",
            "[99]\tvalidation_0-rmse:1073.63\n",
            "==============================================================\n",
            "threshold 0.363521\n",
            "['Outlet_Type_0']\n",
            "1\n",
            "[08:22:33] WARNING: /workspace/src/objective/regression_obj.cu:152: reg:linear is now deprecated in favor of reg:squarederror.\n",
            "[0]\tvalidation_0-rmse:2670.59\n",
            "Will train until validation_0-rmse hasn't improved in 10 rounds.\n",
            "[20]\tvalidation_0-rmse:1739.37\n",
            "[40]\tvalidation_0-rmse:1582.8\n",
            "[60]\tvalidation_0-rmse:1562.58\n",
            "[80]\tvalidation_0-rmse:1560.36\n",
            "[99]\tvalidation_0-rmse:1560.22\n",
            "==============================================================\n",
            "threshold 0.045121\n",
            "['Item_MRP' 'Outlet_Age' 'Outlet_Type_0' 'Outlet_Type_1' 'Outlet_Type_3']\n",
            "5\n",
            "[08:22:34] WARNING: /workspace/src/objective/regression_obj.cu:152: reg:linear is now deprecated in favor of reg:squarederror.\n",
            "[0]\tvalidation_0-rmse:2652.63\n",
            "Will train until validation_0-rmse hasn't improved in 10 rounds.\n",
            "[20]\tvalidation_0-rmse:1422.98\n",
            "[40]\tvalidation_0-rmse:1133.59\n",
            "[60]\tvalidation_0-rmse:1078.84\n",
            "[80]\tvalidation_0-rmse:1069.49\n",
            "[99]\tvalidation_0-rmse:1067.35\n",
            "==============================================================\n",
            "threshold 0.056978\n",
            "['Item_MRP' 'Outlet_Age' 'Outlet_Type_0' 'Outlet_Type_3']\n",
            "4\n",
            "[08:22:34] WARNING: /workspace/src/objective/regression_obj.cu:152: reg:linear is now deprecated in favor of reg:squarederror.\n",
            "[0]\tvalidation_0-rmse:2652.63\n",
            "Will train until validation_0-rmse hasn't improved in 10 rounds.\n",
            "[20]\tvalidation_0-rmse:1422.98\n",
            "[40]\tvalidation_0-rmse:1134.71\n",
            "[60]\tvalidation_0-rmse:1080.67\n",
            "[80]\tvalidation_0-rmse:1070.64\n",
            "[99]\tvalidation_0-rmse:1067.82\n",
            "==============================================================\n",
            "threshold 0.025141\n",
            "['Item_MRP' 'Outlet_Age' 'Outlet_Type_0' 'Outlet_Type_1' 'Outlet_Type_3'\n",
            " 'Outlet_Size_0']\n",
            "6\n",
            "[08:22:34] WARNING: /workspace/src/objective/regression_obj.cu:152: reg:linear is now deprecated in favor of reg:squarederror.\n",
            "[0]\tvalidation_0-rmse:2652.63\n",
            "Will train until validation_0-rmse hasn't improved in 10 rounds.\n",
            "[20]\tvalidation_0-rmse:1422.98\n",
            "[40]\tvalidation_0-rmse:1133.59\n",
            "[60]\tvalidation_0-rmse:1078.84\n",
            "[80]\tvalidation_0-rmse:1069.49\n",
            "[99]\tvalidation_0-rmse:1067.34\n",
            "==============================================================\n",
            "threshold 0.002687\n",
            "['Item_Identifier' 'Item_Weight' 'Item_Fat_Content' 'Item_Visibility'\n",
            " 'Item_MRP' 'Outlet_Identifier' 'Outlet_Age' 'Item_Type_2' 'Item_Type_4'\n",
            " 'Item_Type_6' 'Item_Type_13' 'Outlet_Type_0' 'Outlet_Type_1'\n",
            " 'Outlet_Type_3' 'Outlet_Size_0' 'Outlet_Size_1' 'Outlet_Location_Type_1']\n",
            "17\n",
            "[08:22:35] WARNING: /workspace/src/objective/regression_obj.cu:152: reg:linear is now deprecated in favor of reg:squarederror.\n",
            "[0]\tvalidation_0-rmse:2652.63\n",
            "Will train until validation_0-rmse hasn't improved in 10 rounds.\n",
            "[20]\tvalidation_0-rmse:1422.97\n",
            "[40]\tvalidation_0-rmse:1134.39\n",
            "[60]\tvalidation_0-rmse:1081.68\n",
            "[80]\tvalidation_0-rmse:1074.5\n",
            "Stopping. Best iteration:\n",
            "[86]\tvalidation_0-rmse:1073.99\n",
            "\n",
            "==============================================================\n",
            "threshold 0.023192\n",
            "['Item_MRP' 'Outlet_Age' 'Outlet_Type_0' 'Outlet_Type_1' 'Outlet_Type_3'\n",
            " 'Outlet_Size_0' 'Outlet_Location_Type_1']\n",
            "7\n",
            "[08:22:35] WARNING: /workspace/src/objective/regression_obj.cu:152: reg:linear is now deprecated in favor of reg:squarederror.\n",
            "[0]\tvalidation_0-rmse:2652.63\n",
            "Will train until validation_0-rmse hasn't improved in 10 rounds.\n",
            "[20]\tvalidation_0-rmse:1422.98\n",
            "[40]\tvalidation_0-rmse:1133.59\n",
            "[60]\tvalidation_0-rmse:1079\n",
            "[80]\tvalidation_0-rmse:1069.42\n",
            "[99]\tvalidation_0-rmse:1067.39\n",
            "==============================================================\n"
          ],
          "name": "stdout"
        },
        {
          "output_type": "execute_result",
          "data": {
            "text/plain": [
              "<matplotlib.axes._subplots.AxesSubplot at 0x7fa90a5edf90>"
            ]
          },
          "metadata": {
            "tags": []
          },
          "execution_count": 107
        },
        {
          "output_type": "display_data",
          "data": {
            "image/png": "[encoded data removed]",
            "text/plain": [
              "<Figure size 1080x576 with 1 Axes>"
            ]
          },
          "metadata": {
            "tags": [],
            "needs_background": "light"
          }
        }
      ]
    },
    {
      "cell_type": "code",
      "metadata": {
        "colab": {
          "base_uri": "https://localhost:8080/",
          "height": 501
        },
        "id": "mT5LwMFiYdnw",
        "outputId": "24fc01d7-0013-4c6e-9036-307172bb0cc9"
      },
      "source": [
        "plt.figure(figsize=(20,8))\n",
        "plt.barh(X_train.columns, model.feature_importances_)\n",
        "plt.plot([0.030303031,0.030303031],[0,30])"
      ],
      "execution_count": null,
      "outputs": [
        {
          "output_type": "execute_result",
          "data": {
            "text/plain": [
              "[<matplotlib.lines.Line2D at 0x7fc11026f610>]"
            ]
          },
          "metadata": {
            "tags": []
          },
          "execution_count": 95
        },
        {
          "output_type": "display_data",
          "data": {
            "image/png": "[encoded data removed]",
            "text/plain": [
              "<Figure size 1440x576 with 1 Axes>"
            ]
          },
          "metadata": {
            "tags": [],
            "needs_background": "light"
          }
        }
      ]
    },
    {
      "cell_type": "code",
      "metadata": {
        "colab": {
          "base_uri": "https://localhost:8080/"
        },
        "id": "AvJERqNmyLGP",
        "outputId": "e86b5a33-768e-4b6b-f1c6-368ac21b627b"
      },
      "source": [
        "model = xgb.XGBRegressor()\n",
        "eval_set = [(X_train,y_train), (X_val,y_val)]\n",
        "model.fit(X_train,y_train, eval_set=eval_set, eval_metric='rmse', early_stopping_rounds=10, verbose=False)"
      ],
      "execution_count": null,
      "outputs": [
        {
          "output_type": "stream",
          "text": [
            "[08:09:01] WARNING: /workspace/src/objective/regression_obj.cu:152: reg:linear is now deprecated in favor of reg:squarederror.\n"
          ],
          "name": "stdout"
        },
        {
          "output_type": "execute_result",
          "data": {
            "text/plain": [
              "XGBRegressor(base_score=0.5, booster='gbtree', colsample_bylevel=1,\n",
              "             colsample_bynode=1, colsample_bytree=1, gamma=0,\n",
              "             importance_type='gain', learning_rate=0.1, max_delta_step=0,\n",
              "             max_depth=3, min_child_weight=1, missing=None, n_estimators=100,\n",
              "             n_jobs=1, nthread=None, objective='reg:linear', random_state=0,\n",
              "             reg_alpha=0, reg_lambda=1, scale_pos_weight=1, seed=None,\n",
              "             silent=None, subsample=1, verbosity=1)"
            ]
          },
          "metadata": {
            "tags": []
          },
          "execution_count": 84
        }
      ]
    },
    {
      "cell_type": "code",
      "metadata": {
        "id": "UTh8flaXy8F4"
      },
      "source": [
        "results = model.evals_result()"
      ],
      "execution_count": null,
      "outputs": []
    },
    {
      "cell_type": "code",
      "metadata": {
        "id": "T2zrkDj95wGD"
      },
      "source": [
        "epochs = len(results['validation_0']['rmse'])\n",
        "x_axis = range(0,epochs)"
      ],
      "execution_count": null,
      "outputs": []
    },
    {
      "cell_type": "code",
      "metadata": {
        "colab": {
          "base_uri": "https://localhost:8080/",
          "height": 734
        },
        "id": "6GeG2vJA6NRm",
        "outputId": "47bbee43-c1b6-4ed4-e536-3e179503ea29"
      },
      "source": [
        "fig, ax = plt.subplots(figsize=(12,12))\n",
        "ax.plot(x_axis, results[\"validation_0\"][\"rmse\"], label=\"Train\")\n",
        "ax.plot(x_axis, results[\"validation_1\"][\"rmse\"], label=\"Test\")\n",
        "ax.legend()\n",
        "plt.ylabel(\"rmse\")\n",
        "plt.title(\"XGBoost baseline RMSE\")"
      ],
      "execution_count": null,
      "outputs": [
        {
          "output_type": "execute_result",
          "data": {
            "text/plain": [
              "Text(0.5, 1.0, 'XGBoost baseline RMSE')"
            ]
          },
          "metadata": {
            "tags": []
          },
          "execution_count": 87
        },
        {
          "output_type": "display_data",
          "data": {
            "image/png": "[encoded data removed]",
            "text/plain": [
              "<Figure size 864x864 with 1 Axes>"
            ]
          },
          "metadata": {
            "tags": [],
            "needs_background": "light"
          }
        }
      ]
    },
    {
      "cell_type": "code",
      "metadata": {
        "colab": {
          "base_uri": "https://localhost:8080/"
        },
        "id": "KeqM63jW870q",
        "outputId": "a312fe8e-3a00-4d05-e849-b7b78966d063"
      },
      "source": [
        "model = xgb.XGBRegressor(random_state=35,learning_rate=0.05,reg_lambda=9)\n",
        "eval_set = [(X_train,y_train), (X_val,y_val)]\n",
        "model.fit(X_train,y_train, eval_set=eval_set, eval_metric='rmse', early_stopping_rounds=10, verbose=False)"
      ],
      "execution_count": null,
      "outputs": [
        {
          "output_type": "stream",
          "text": [
            "[08:09:15] WARNING: /workspace/src/objective/regression_obj.cu:152: reg:linear is now deprecated in favor of reg:squarederror.\n"
          ],
          "name": "stdout"
        },
        {
          "output_type": "execute_result",
          "data": {
            "text/plain": [
              "XGBRegressor(base_score=0.5, booster='gbtree', colsample_bylevel=1,\n",
              "             colsample_bynode=1, colsample_bytree=1, gamma=0,\n",
              "             importance_type='gain', learning_rate=0.05, max_delta_step=0,\n",
              "             max_depth=3, min_child_weight=1, missing=None, n_estimators=100,\n",
              "             n_jobs=1, nthread=None, objective='reg:linear', random_state=35,\n",
              "             reg_alpha=0, reg_lambda=9, scale_pos_weight=1, seed=None,\n",
              "             silent=None, subsample=1, verbosity=1)"
            ]
          },
          "metadata": {
            "tags": []
          },
          "execution_count": 88
        }
      ]
    },
    {
      "cell_type": "code",
      "metadata": {
        "id": "-eWIX1tc870t"
      },
      "source": [
        "results = model.evals_result()"
      ],
      "execution_count": null,
      "outputs": []
    },
    {
      "cell_type": "code",
      "metadata": {
        "id": "IGXNY7Qt870y"
      },
      "source": [
        "epochs = len(results['validation_0']['rmse'])\n",
        "x_axis = range(0,epochs)"
      ],
      "execution_count": null,
      "outputs": []
    },
    {
      "cell_type": "code",
      "metadata": {
        "colab": {
          "base_uri": "https://localhost:8080/",
          "height": 734
        },
        "id": "22pdWS86870z",
        "outputId": "0a42dd94-0892-40fc-ec24-300451607692"
      },
      "source": [
        "fig, ax = plt.subplots(figsize=(12,12))\n",
        "ax.plot(x_axis, results[\"validation_0\"][\"rmse\"], label=\"Train\")\n",
        "ax.plot(x_axis, results[\"validation_1\"][\"rmse\"], label=\"Test\")\n",
        "ax.legend()\n",
        "plt.ylabel(\"rmse\")\n",
        "plt.title(\"XGBoost baseline RMSE\")"
      ],
      "execution_count": null,
      "outputs": [
        {
          "output_type": "execute_result",
          "data": {
            "text/plain": [
              "Text(0.5, 1.0, 'XGBoost baseline RMSE')"
            ]
          },
          "metadata": {
            "tags": []
          },
          "execution_count": 91
        },
        {
          "output_type": "display_data",
          "data": {
            "image/png": "[encoded data removed]",
            "text/plain": [
              "<Figure size 864x864 with 1 Axes>"
            ]
          },
          "metadata": {
            "tags": [],
            "needs_background": "light"
          }
        }
      ]
    },
    {
      "cell_type": "code",
      "metadata": {
        "id": "LTvcAfTo9DF3"
      },
      "source": [
        "X_train_selected_features = X_train.loc[:,['Item_MRP', 'Outlet_Age', 'Outlet_Type_0', 'Outlet_Type_1', 'Outlet_Type_3', 'Outlet_Location_Type_1','Outlet_Size_0']]\n",
        "X_val_selected_features = X_val.loc[:,['Item_MRP', 'Outlet_Age', 'Outlet_Type_0', 'Outlet_Type_1', 'Outlet_Type_3', 'Outlet_Location_Type_1','Outlet_Size_0']]"
      ],
      "execution_count": null,
      "outputs": []
    },
    {
      "cell_type": "code",
      "metadata": {
        "colab": {
          "base_uri": "https://localhost:8080/"
        },
        "id": "I-6sggTt8BjG",
        "outputId": "e7355b9b-4bd0-4c23-9965-5ec4a1cc0b86"
      },
      "source": [
        "model = xgb.XGBRegressor(random_state=35,learning_rate=0.05,reg_lambda=9)\n",
        "eval_set = [(X_train_selected_features,y_train), (X_val_selected_features,y_val)]\n",
        "model.fit(X_train_selected_features,y_train, eval_set=eval_set, eval_metric='rmse', early_stopping_rounds=10, verbose=False)"
      ],
      "execution_count": null,
      "outputs": [
        {
          "output_type": "stream",
          "text": [
            "[08:38:53] WARNING: /workspace/src/objective/regression_obj.cu:152: reg:linear is now deprecated in favor of reg:squarederror.\n"
          ],
          "name": "stdout"
        },
        {
          "output_type": "execute_result",
          "data": {
            "text/plain": [
              "XGBRegressor(base_score=0.5, booster='gbtree', colsample_bylevel=1,\n",
              "             colsample_bynode=1, colsample_bytree=1, gamma=0,\n",
              "             importance_type='gain', learning_rate=0.05, max_delta_step=0,\n",
              "             max_depth=3, min_child_weight=1, missing=None, n_estimators=100,\n",
              "             n_jobs=1, nthread=None, objective='reg:linear', random_state=35,\n",
              "             reg_alpha=0, reg_lambda=9, scale_pos_weight=1, seed=None,\n",
              "             silent=None, subsample=1, verbosity=1)"
            ]
          },
          "metadata": {
            "tags": []
          },
          "execution_count": 132
        }
      ]
    },
    {
      "cell_type": "code",
      "metadata": {
        "id": "lLD8Uw_f8BjI"
      },
      "source": [
        "results = model.evals_result()"
      ],
      "execution_count": null,
      "outputs": []
    },
    {
      "cell_type": "code",
      "metadata": {
        "id": "QdW0pY_S8BjJ"
      },
      "source": [
        "epochs = len(results['validation_0']['rmse'])\n",
        "x_axis = range(0,epochs)"
      ],
      "execution_count": null,
      "outputs": []
    },
    {
      "cell_type": "code",
      "metadata": {
        "colab": {
          "base_uri": "https://localhost:8080/",
          "height": 734
        },
        "id": "-wrEclFB8BjJ",
        "outputId": "4bd416f8-4d99-4f52-ba92-2746085afcdd"
      },
      "source": [
        "fig, ax = plt.subplots(figsize=(12,12))\n",
        "ax.plot(x_axis, results[\"validation_0\"][\"rmse\"], label=\"Train\")\n",
        "ax.plot(x_axis, results[\"validation_1\"][\"rmse\"], label=\"Test\")\n",
        "ax.legend()\n",
        "plt.ylabel(\"rmse\")\n",
        "plt.title(\"XGBoost baseline RMSE\")"
      ],
      "execution_count": null,
      "outputs": [
        {
          "output_type": "execute_result",
          "data": {
            "text/plain": [
              "Text(0.5, 1.0, 'XGBoost baseline RMSE')"
            ]
          },
          "metadata": {
            "tags": []
          },
          "execution_count": 135
        },
        {
          "output_type": "display_data",
          "data": {
            "image/png": "[encoded data removed]",
            "text/plain": [
              "<Figure size 864x864 with 1 Axes>"
            ]
          },
          "metadata": {
            "tags": [],
            "needs_background": "light"
          }
        }
      ]
    },
    {
      "cell_type": "code",
      "metadata": {
        "id": "x3jbhhfYfxF0"
      },
      "source": [
        "test_xgb_selected_features = test_xgb.loc[:,['Item_MRP', 'Outlet_Age', 'Outlet_Type_0', 'Outlet_Type_1', 'Outlet_Type_3', 'Outlet_Location_Type_1','Outlet_Size_0']]"
      ],
      "execution_count": null,
      "outputs": []
    },
    {
      "cell_type": "code",
      "metadata": {
        "id": "MlCkDZjTx0KW"
      },
      "source": [
        "xgb_predictions = model.predict(test_xgb_selected_features)"
      ],
      "execution_count": null,
      "outputs": []
    },
    {
      "cell_type": "markdown",
      "metadata": {
        "id": "XAqDYuzOjCkQ"
      },
      "source": [
        "#####Save as CSV"
      ]
    },
    {
      "cell_type": "code",
      "metadata": {
        "id": "vJ087twDNHIw"
      },
      "source": [
        "submission_df = pd.DataFrame({'Item_Identifier': test_original.Item_Identifier, 'Outlet_Identifier': test_original.Outlet_Identifier})"
      ],
      "execution_count": null,
      "outputs": []
    },
    {
      "cell_type": "code",
      "metadata": {
        "colab": {
          "base_uri": "https://localhost:8080/"
        },
        "id": "wIi_ie2iRtTE",
        "outputId": "36e0a440-45b0-4aad-9d7a-5456d93ddb3b"
      },
      "source": [
        "submission_df.head()"
      ],
      "execution_count": null,
      "outputs": [
        {
          "output_type": "execute_result",
          "data": {
            "text/html": [
              "<div>\n",
              "<style scoped>\n",
              "    .dataframe tbody tr th:only-of-type {\n",
              "        vertical-align: middle;\n",
              "    }\n",
              "\n",
              "    .dataframe tbody tr th {\n",
              "        vertical-align: top;\n",
              "    }\n",
              "\n",
              "    .dataframe thead th {\n",
              "        text-align: right;\n",
              "    }\n",
              "</style>\n",
              "<table border=\"1\" class=\"dataframe\">\n",
              "  <thead>\n",
              "    <tr style=\"text-align: right;\">\n",
              "      <th></th>\n",
              "      <th>Item_Identifier</th>\n",
              "      <th>Outlet_Identifier</th>\n",
              "    </tr>\n",
              "  </thead>\n",
              "  <tbody>\n",
              "    <tr>\n",
              "      <th>0</th>\n",
              "      <td>FDW58</td>\n",
              "      <td>OUT049</td>\n",
              "    </tr>\n",
              "    <tr>\n",
              "      <th>1</th>\n",
              "      <td>FDW14</td>\n",
              "      <td>OUT017</td>\n",
              "    </tr>\n",
              "    <tr>\n",
              "      <th>2</th>\n",
              "      <td>NCN55</td>\n",
              "      <td>OUT010</td>\n",
              "    </tr>\n",
              "    <tr>\n",
              "      <th>3</th>\n",
              "      <td>FDQ58</td>\n",
              "      <td>OUT017</td>\n",
              "    </tr>\n",
              "    <tr>\n",
              "      <th>4</th>\n",
              "      <td>FDY38</td>\n",
              "      <td>OUT027</td>\n",
              "    </tr>\n",
              "  </tbody>\n",
              "</table>\n",
              "</div>"
            ],
            "text/plain": [
              "  Item_Identifier Outlet_Identifier\n",
              "0           FDW58            OUT049\n",
              "1           FDW14            OUT017\n",
              "2           NCN55            OUT010\n",
              "3           FDQ58            OUT017\n",
              "4           FDY38            OUT027"
            ]
          },
          "metadata": {
            "tags": []
          },
          "execution_count": 139
        }
      ]
    },
    {
      "cell_type": "code",
      "metadata": {
        "id": "VCBIOEzbRuoF"
      },
      "source": [
        "submission_df['Item_Outlet_Sales'] = xgb_predictions"
      ],
      "execution_count": null,
      "outputs": []
    },
    {
      "cell_type": "code",
      "metadata": {
        "colab": {
          "base_uri": "https://localhost:8080/"
        },
        "id": "PIjsPofUVuZ8",
        "outputId": "5eb66d68-5da2-40f4-fb71-42b5fef05916"
      },
      "source": [
        "submission_df.head()"
      ],
      "execution_count": null,
      "outputs": [
        {
          "output_type": "execute_result",
          "data": {
            "text/html": [
              "<div>\n",
              "<style scoped>\n",
              "    .dataframe tbody tr th:only-of-type {\n",
              "        vertical-align: middle;\n",
              "    }\n",
              "\n",
              "    .dataframe tbody tr th {\n",
              "        vertical-align: top;\n",
              "    }\n",
              "\n",
              "    .dataframe thead th {\n",
              "        text-align: right;\n",
              "    }\n",
              "</style>\n",
              "<table border=\"1\" class=\"dataframe\">\n",
              "  <thead>\n",
              "    <tr style=\"text-align: right;\">\n",
              "      <th></th>\n",
              "      <th>Item_Identifier</th>\n",
              "      <th>Outlet_Identifier</th>\n",
              "      <th>Item_Outlet_Sales</th>\n",
              "    </tr>\n",
              "  </thead>\n",
              "  <tbody>\n",
              "    <tr>\n",
              "      <th>0</th>\n",
              "      <td>FDW58</td>\n",
              "      <td>OUT049</td>\n",
              "      <td>1685.610840</td>\n",
              "    </tr>\n",
              "    <tr>\n",
              "      <th>1</th>\n",
              "      <td>FDW14</td>\n",
              "      <td>OUT017</td>\n",
              "      <td>1389.264038</td>\n",
              "    </tr>\n",
              "    <tr>\n",
              "      <th>2</th>\n",
              "      <td>NCN55</td>\n",
              "      <td>OUT010</td>\n",
              "      <td>644.549316</td>\n",
              "    </tr>\n",
              "    <tr>\n",
              "      <th>3</th>\n",
              "      <td>FDQ58</td>\n",
              "      <td>OUT017</td>\n",
              "      <td>2570.071777</td>\n",
              "    </tr>\n",
              "    <tr>\n",
              "      <th>4</th>\n",
              "      <td>FDY38</td>\n",
              "      <td>OUT027</td>\n",
              "      <td>5733.498047</td>\n",
              "    </tr>\n",
              "  </tbody>\n",
              "</table>\n",
              "</div>"
            ],
            "text/plain": [
              "  Item_Identifier Outlet_Identifier  Item_Outlet_Sales\n",
              "0           FDW58            OUT049        1685.610840\n",
              "1           FDW14            OUT017        1389.264038\n",
              "2           NCN55            OUT010         644.549316\n",
              "3           FDQ58            OUT017        2570.071777\n",
              "4           FDY38            OUT027        5733.498047"
            ]
          },
          "metadata": {
            "tags": []
          },
          "execution_count": 141
        }
      ]
    },
    {
      "cell_type": "code",
      "metadata": {
        "id": "CU3CIF8BVv6r"
      },
      "source": [
        "submission_df.to_csv('submission.csv', index=False)"
      ],
      "execution_count": null,
      "outputs": []
    },
    {
      "cell_type": "code",
      "metadata": {
        "id": "v1KWrYODYB3O"
      },
      "source": [
        ""
      ],
      "execution_count": null,
      "outputs": []
    }
  ]
}